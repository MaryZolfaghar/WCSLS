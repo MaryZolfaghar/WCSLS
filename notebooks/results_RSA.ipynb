{
 "metadata": {
  "language_info": {
   "codemirror_mode": {
    "name": "ipython",
    "version": 3
   },
   "file_extension": ".py",
   "mimetype": "text/x-python",
   "name": "python",
   "nbconvert_exporter": "python",
   "pygments_lexer": "ipython3",
   "version": "3.6.13"
  },
  "orig_nbformat": 4,
  "kernelspec": {
   "name": "python3",
   "display_name": "Python 3.6.13 64-bit ('csls': conda)"
  },
  "interpreter": {
   "hash": "5ab752e21f80cd37e4dd3ae62015e4827f38c378f9410a931c965901aefa794a"
  }
 },
 "nbformat": 4,
 "nbformat_minor": 2,
 "cells": [
  {
   "cell_type": "code",
   "execution_count": 83,
   "source": [
    "import numpy as np\n",
    "import pickle\n",
    "from itertools import combinations\n",
    "import matplotlib.pyplot as plt\n",
    "import sys\n",
    "sys.path.append(\"..\") # Adds higher directory to python modules path.\n",
    "from utils.util import *\n",
    "from dataset import get_loaders"
   ],
   "outputs": [],
   "metadata": {}
  },
  {
   "cell_type": "code",
   "execution_count": 84,
   "source": [
    "ctx_order = 'last'\n",
    "ctx_order_str = 'ctxL'\n",
    "analyze_name = 'analyze_regression'"
   ],
   "outputs": [],
   "metadata": {}
  },
  {
   "cell_type": "code",
   "execution_count": 85,
   "source": [
    "with open('../../results/%s_results_mlp.P' %(analyze_name), 'rb') as f:\n",
    "    mlp_results = pickle.load(f)\n",
    "\n",
    "with open('../../results/%s_%s_results_rnn.P' %(analyze_name, ctx_order_str), 'rb') as f:\n",
    "    rnn_results = pickle.load(f)\n",
    "\n",
    "with open('../../results/%s_%s_results_rnncell.P' %(analyze_name, ctx_order_str), 'rb') as f:\n",
    "    rnncell_results = pickle.load(f)\n",
    "\n",
    "with open('../../results/%s_results_stepwisemlp.P' %(analyze_name), 'rb') as f:\n",
    "    swmlp_results = pickle.load(f)\n"
   ],
   "outputs": [],
   "metadata": {}
  },
  {
   "cell_type": "code",
   "execution_count": 86,
   "source": [
    "mlp_runs     = dict_to_list(mlp_results, analyze_name)\n",
    "rnn_runs     = dict_to_list(rnn_results, analyze_name)\n",
    "rnncell_runs = dict_to_list(rnncell_results, analyze_name)\n",
    "swmlp_runs   = dict_to_list(swmlp_results, analyze_name)\n",
    "mlp_runs.keys()"
   ],
   "outputs": [
    {
     "output_type": "execute_result",
     "data": {
      "text/plain": [
       "dict_keys(['cat_reg', 'con_reg'])"
      ]
     },
     "metadata": {},
     "execution_count": 86
    }
   ],
   "metadata": {}
  },
  {
   "cell_type": "code",
   "execution_count": 87,
   "source": [
    "reg_analyze_name = 'cat_reg'\n",
    "mlp_cat_runs     = dict_to_list(mlp_runs, reg_analyze_name)\n",
    "rnn_cat_runs     = dict_to_list(rnn_runs, reg_analyze_name)\n",
    "rnncell_cat_runs = dict_to_list(rnncell_runs, reg_analyze_name)\n",
    "swmlp_cat_runs   = dict_to_list(swmlp_runs, reg_analyze_name)\n",
    "mlp_cat_runs.keys()"
   ],
   "outputs": [
    {
     "output_type": "execute_result",
     "data": {
      "text/plain": [
       "dict_keys(['p_val', 't_val', 'param', 'y_hat_E', 'y', 'bse'])"
      ]
     },
     "metadata": {},
     "execution_count": 87
    }
   ],
   "metadata": {}
  },
  {
   "cell_type": "code",
   "execution_count": null,
   "source": [],
   "outputs": [],
   "metadata": {}
  },
  {
   "cell_type": "code",
   "execution_count": 88,
   "source": [
    "data = get_loaders(batch_size=32, meta=False,\n",
    "                    use_images=True, image_dir='../images/',\n",
    "                    n_episodes=None, N_responses=None, N_contexts=None,\n",
    "                    cortical_task='face_task')\n",
    "train_data, train_loader, test_data, test_loader, analyze_data, analyze_loader = data"
   ],
   "outputs": [],
   "metadata": {}
  },
  {
   "cell_type": "code",
   "execution_count": 89,
   "source": [
    "y_hat_Es = mlp_cat_runs['y_hat_E'] # [runs, checkpoints, n_combinations]: [20, 21, 120]\n",
    "ys = mlp_cat_runs['y'] \n",
    "np.asarray(y_hat_Es).shape"
   ],
   "outputs": [
    {
     "output_type": "execute_result",
     "data": {
      "text/plain": [
       "(20, 21, 120)"
      ]
     },
     "metadata": {},
     "execution_count": 89
    }
   ],
   "metadata": {}
  },
  {
   "cell_type": "code",
   "execution_count": 90,
   "source": [
    "def calc_rsa_dis(results, test_data):\n",
    "    y_hat_Es = np.asarray(results['y_hat_E']) # [runs, checkpoints, n_combinations]: [20, 21, 120]\n",
    "    ys = np.asarray(results['y'])\n",
    "    cp = -1\n",
    "    n_states = test_data.n_states \n",
    "    loc2idx = test_data.loc2idx \n",
    "    idxs = [idx for idx in range(n_states)]\n",
    "    locs = [loc for loc, idx in loc2idx.items()]\n",
    "    wE = ys - y_hat_Es\n",
    "    wE = wE.mean(axis=0)[cp]\n",
    "    print(wE.shape)\n",
    "    rsa_dist = np.zeros(shape=(n_states, n_states))\n",
    "    for i, (idx1, idx2) in enumerate(combinations(idxs, 2)):\n",
    "        rsa_dist[idx1][idx2] = wE[i]\n",
    "        rsa_dist[idx2][idx1] = wE[i]\n",
    "    return rsa_dist\n"
   ],
   "outputs": [],
   "metadata": {}
  },
  {
   "cell_type": "code",
   "execution_count": 91,
   "source": [
    "rsa_dist_mlp     = calc_rsa_dis(mlp_cat_runs, test_data)\n",
    "# rsa_dist_swmlp   = calc_rsa_dis(swmlp_cat_runs, test_data)\n",
    "rsa_dist_rnn     = calc_rsa_dis(rnn_cat_runs, test_data)\n",
    "rsa_dist_rnncell = calc_rsa_dis(rnncell_cat_runs, test_data)\n"
   ],
   "outputs": [
    {
     "output_type": "stream",
     "name": "stdout",
     "text": [
      "(120,)\n",
      "(120,)\n",
      "(120,)\n"
     ]
    }
   ],
   "metadata": {}
  },
  {
   "cell_type": "code",
   "execution_count": 92,
   "source": [
    "y_hat_Es = np.asarray(swmlp_cat_runs['y_hat_E']) # [runs, checkpoints, n_combinations]: [20, 21, 120]\n",
    "ys = np.asarray(swmlp_cat_runs['y'])\n",
    "y_hat_Es.shape\n"
   ],
   "outputs": [
    {
     "output_type": "execute_result",
     "data": {
      "text/plain": [
       "(20, 21, 120, 2)"
      ]
     },
     "metadata": {},
     "execution_count": 92
    }
   ],
   "metadata": {}
  },
  {
   "cell_type": "code",
   "execution_count": 93,
   "source": [
    "y_hat_Es = np.asarray(swmlp_cat_runs['y_hat_E']) # [runs, checkpoints, n_combinations]: [20, 21, 120]\n",
    "ys = np.asarray(swmlp_cat_runs['y'])\n",
    "\n",
    "runs, checkpoints, n_combinations, n_hidds = y_hat_Es.shape\n",
    "ys_swmlp = np.zeros([runs, checkpoints, n_combinations, n_hidds])\n",
    "yhats_swmlp = np.zeros([runs, checkpoints, n_combinations, n_hidds])\n",
    "for r in range(runs):\n",
    "    for cp in range(checkpoints):\n",
    "        yhats_swmlp[r,cp,:,:] = y_hat_Es[r,cp]\n",
    "        ys_swmlp[r,cp,:,:] = ys[r,cp]\n",
    "cp = -1\n",
    "n_states = test_data.n_states \n",
    "loc2idx = test_data.loc2idx \n",
    "idxs = [idx for idx in range(n_states)]\n",
    "locs = [loc for loc, idx in loc2idx.items()]\n",
    "wE = ys_swmlp - yhats_swmlp\n",
    "wE = wE.mean(axis=0)[cp]\n",
    "rsa_dist_swmlp = np.zeros(shape=(n_states, n_states, n_hidds))\n",
    "for i, (idx1, idx2) in enumerate(combinations(idxs, 2)):\n",
    "    for h in range(n_hidds):\n",
    "        rsa_dist_swmlp[idx1,idx2,h] = wE[i,h]\n",
    "        rsa_dist_swmlp[idx2,idx1,h] = wE[i,h]\n",
    "print(rsa_dist_swmlp.shape)"
   ],
   "outputs": [
    {
     "output_type": "stream",
     "name": "stdout",
     "text": [
      "(16, 16, 2)\n"
     ]
    }
   ],
   "metadata": {}
  },
  {
   "cell_type": "code",
   "execution_count": 94,
   "source": [
    "vmin, vmax = -2.5, 2.5\n",
    "\n",
    "fig, axs = plt.subplots()\n",
    "plt.imshow(rsa_dist_rnn, vmin=vmin, vmax=vmax)\n",
    "plt.xticks(idxs, locs, rotation='90')\n",
    "plt.yticks(idxs, locs)\n",
    "plt.colorbar()\n",
    "fig_str = '%s_rsa_rnn' %(ctx_order_str)\n",
    "fig.suptitle('RNN - ax %s' %(ctx_order), fontweight='bold')\n",
    "plt.tight_layout()   \n",
    "fig.savefig(('../../figures/' + fig_str + '.pdf'),\n",
    "            bbox_inches = 'tight', pad_inches=0)\n",
    "\n",
    "fig, axs = plt.subplots()\n",
    "plt.imshow(rsa_dist_rnncell, vmin=vmin, vmax=vmax)\n",
    "plt.xticks(idxs, locs, rotation='90')\n",
    "plt.yticks(idxs, locs)\n",
    "plt.colorbar()\n",
    "fig_str = '%s_rsa_rnncell' %(ctx_order_str)\n",
    "fig.suptitle('RNNCell - ax %s' %(ctx_order), fontweight='bold')\n",
    "plt.tight_layout()   \n",
    "fig.savefig(('../../figures/' + fig_str + '.pdf'),\n",
    "            bbox_inches = 'tight', pad_inches=0)\n",
    "\n",
    "fig, axs = plt.subplots()\n",
    "plt.imshow(rsa_dist_mlp, vmin=vmin, vmax=vmax)\n",
    "plt.xticks(idxs, locs, rotation='90')\n",
    "plt.yticks(idxs, locs)\n",
    "plt.colorbar()\n",
    "fig_str = 'rsa_mlp'\n",
    "fig.suptitle('MLP', fontweight='bold')\n",
    "plt.tight_layout()   \n",
    "fig.savefig(('../../figures/' + fig_str + '.pdf'),\n",
    "            bbox_inches = 'tight', pad_inches=0)\n",
    "\n",
    "fig, axs = plt.subplots()\n",
    "plt.imshow(rsa_dist_swmlp[:,:,0], vmin=vmin, vmax=vmax)\n",
    "plt.xticks(idxs, locs, rotation='90')\n",
    "plt.yticks(idxs, locs)\n",
    "plt.colorbar()\n",
    "fig_str = 'rsa_swmlp_hidd1'\n",
    "fig.suptitle('Stepwise MLP - Hidden 1', fontweight='bold')\n",
    "plt.tight_layout()   \n",
    "fig.savefig(('../../figures/' + fig_str + '.pdf'),\n",
    "            bbox_inches = 'tight', pad_inches=0)\n",
    "\n",
    "\n",
    "fig, axs = plt.subplots()\n",
    "plt.imshow(rsa_dist_swmlp[:,:,1], vmin=vmin, vmax=vmax)\n",
    "plt.xticks(idxs, locs, rotation='90')\n",
    "plt.yticks(idxs, locs)\n",
    "plt.colorbar()\n",
    "fig_str = 'rsa_swmlp_hidd2'\n",
    "fig.suptitle('Stepwise MLP - Hidden 2', fontweight='bold')\n",
    "plt.tight_layout()   \n",
    "fig.savefig(('../../figures/' + fig_str + '.pdf'),\n",
    "            bbox_inches = 'tight', pad_inches=0)\n"
   ],
   "outputs": [
    {
     "output_type": "display_data",
     "data": {
      "text/plain": [
       "<Figure size 432x288 with 2 Axes>"
      ],
      "image/png": "[encoded data removed]"
     },
     "metadata": {
      "needs_background": "light"
     }
    },
    {
     "output_type": "display_data",
     "data": {
      "text/plain": [
       "<Figure size 432x288 with 2 Axes>"
      ],
      "image/png": "[encoded data removed]"
     },
     "metadata": {
      "needs_background": "light"
     }
    }
   ],
   "metadata": {}
  },
  {
   "cell_type": "markdown",
   "source": [
    "- put all the above figures together?\n",
    "- I tried it, the issue was:\n",
    "    - colorbars\n",
    "    - removing white spaces between plots \n",
    "    - it didn't look good a the end"
   ],
   "metadata": {}
  },
  {
   "cell_type": "code",
   "execution_count": null,
   "source": [
    "# fig, axs = plt.subplots(2,2,figsize=[15,5])\n",
    "# ax = axs[0][0]\n",
    "# ax.imshow(rsa_dist_rnn)\n",
    "# ax.set_title('RNN - ax %s' %(ctx_order), fontweight='bold')\n",
    "# # ax.set_xticks(idxs, locs, rotation='90')\n",
    "# # ax.set_yticks(idxs, locs)\n",
    "\n",
    "# ax = axs[0][1]\n",
    "# ax.imshow(rsa_dist_mlp)\n",
    "# ax.set_title('MLP', fontweight='bold')\n",
    "\n",
    "# ax = axs[1][0]\n",
    "# ax.imshow(rsa_dist_swmlp[:,:,0])\n",
    "# ax.set_title('Stepwise MLP - Hidden 1', fontweight='bold')\n",
    "\n",
    "# ax = axs[1][1]\n",
    "# ax.imshow(rsa_dist_swmlp[:,:,1])\n",
    "# ax.set_title('Stepwise MLP - Hidden 2', fontweight='bold')\n",
    "\n",
    "# for ax in axs.flatten():\n",
    "#     ax.set_xticks(idxs)\n",
    "#     ax.set_xticklabels(locs, rotation='90')\n",
    "#     ax.set_yticks(idxs)\n",
    "#     ax.set_yticklabels(locs)\n",
    "\n",
    "# # plt.gca().xaxis.set_major_locator(plt.NullLocator())\n",
    "# # plt.gca().yaxis.set_major_locator(plt.NullLocator())\n",
    "# # fig.colorbar(rsa_dist_mlp, cax=axs[2])\n",
    "# # fig.colorbar(im, cax=cax, orientation='vertical')\n",
    "# fig_str = '%s_rsa_three_models' %(ctx_order_str)\n",
    "# plt.tight_layout()   \n",
    "# plt.show()\n",
    "# fig.savefig(('../../figures/' + fig_str + '.jpg'),\n",
    "#             bbox_inches = 'tight', pad_inches=0)\n"
   ],
   "outputs": [],
   "metadata": {}
  },
  {
   "cell_type": "code",
   "execution_count": null,
   "source": [],
   "outputs": [],
   "metadata": {}
  },
  {
   "cell_type": "code",
   "execution_count": null,
   "source": [],
   "outputs": [],
   "metadata": {}
  }
 ]
}