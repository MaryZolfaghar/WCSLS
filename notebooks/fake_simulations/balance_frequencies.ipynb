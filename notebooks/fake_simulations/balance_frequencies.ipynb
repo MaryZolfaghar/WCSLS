{
 "cells": [
  {
   "cell_type": "markdown",
   "metadata": {},
   "source": [
    "# Testing dataset code for balancing frequencies"
   ]
  },
  {
   "cell_type": "code",
   "execution_count": null,
   "metadata": {},
   "outputs": [],
   "source": [
    "import os\n",
    "os.chdir('../WCSLS')\n",
    "os.getcwd()"
   ]
  },
  {
   "cell_type": "code",
   "execution_count": 71,
   "metadata": {},
   "outputs": [],
   "source": [
    "import matplotlib.pyplot as plt\n",
    "from dataset import *"
   ]
  },
  {
   "cell_type": "code",
   "execution_count": 94,
   "metadata": {},
   "outputs": [],
   "source": [
    "dataset = WineGridDataset(testing=False, analyzing=False, N_contexts='two', \n",
    "                          N_responses='one', use_images=True, \n",
    "                          image_dir='images/')"
   ]
  },
  {
   "cell_type": "markdown",
   "metadata": {},
   "source": [
    "Get counts for each face in existing dataset"
   ]
  },
  {
   "cell_type": "code",
   "execution_count": 95,
   "metadata": {},
   "outputs": [],
   "source": [
    "locs = [loc for loc in dataset.loc2idx.keys()]\n",
    "train = dataset.grid.train\n",
    "\n",
    "def get_counts(train):\n",
    "    counts = {loc:[0,0] for loc in locs} # loc: [wins, losses]\n",
    "    for f1, f2, cx, y1, y2  in train:\n",
    "        if y1 == 0:\n",
    "            winner = f2\n",
    "            loser = f1\n",
    "        else:\n",
    "            winner = f1\n",
    "            loser = f2\n",
    "        counts[winner][0] += 1\n",
    "        counts[loser][1] += 1\n",
    "    return counts"
   ]
  },
  {
   "cell_type": "code",
   "execution_count": 96,
   "metadata": {},
   "outputs": [],
   "source": [
    "def plot_counts(counts):\n",
    "    fig, ax = plt.subplots()\n",
    "\n",
    "    # Add lines of grid\n",
    "    ax.hlines(y=[-0.5, 0.5, 1.5, 2.5, 3.5], xmin=-0.5, xmax=3.5)\n",
    "    ax.vlines(x=[-0.5, 0.5, 1.5, 2.5, 3.5], ymin=-0.5, ymax=3.5)\n",
    "\n",
    "    # Add annotations: Wins, Losses\n",
    "    for loc, count in counts.items():\n",
    "        ax.annotate(\"W: {}, L: {}\".format(count[0], count[1]), (loc[0]-0.35, loc[1]))\n",
    "\n",
    "    # Formatting\n",
    "    ax.set_xticks([])\n",
    "    ax.set_yticks([])\n",
    "    plt.show()"
   ]
  },
  {
   "cell_type": "code",
   "execution_count": 97,
   "metadata": {},
   "outputs": [
    {
     "data": {
      "image/png": "[encoded data removed]",
      "text/plain": [
       "<Figure size 432x288 with 1 Axes>"
      ]
     },
     "metadata": {},
     "output_type": "display_data"
    }
   ],
   "source": [
    "counts = get_counts(train)\n",
    "plot_counts(counts)"
   ]
  },
  {
   "cell_type": "markdown",
   "metadata": {},
   "source": [
    "Add proposed pairs to balance"
   ]
  },
  {
   "cell_type": "code",
   "execution_count": 98,
   "metadata": {},
   "outputs": [],
   "source": [
    "# Extra wins\n",
    "wins1 = [((0,0),(0,1),1,0,-1)] * 4 + [((0,1),(0,0),1,1,-1)] * 4\n",
    "wins2 = [((0,0),(0,2),1,0,-1)] * 4 + [((0,2),(0,0),1,1,-1)] * 4\n",
    "wins3 = [((0,0),(1,0),0,0,-1)] * 4 + [((1,0),(0,0),0,1,-1)] * 4\n",
    "wins4 = [((0,0),(2,0),0,0,-1)] * 4 + [((2,0),(0,0),0,1,-1)] * 4\n",
    "wins = wins1 + wins2 + wins3 + wins4\n",
    "\n",
    "# Extra losses\n",
    "losses1 = [((3,3),(3,2),1,1,-1)] * 4 + [((3,2),(3,3),1,0,-1)] * 4\n",
    "losses2 = [((3,3),(3,1),1,1,-1)] * 4 + [((3,1),(3,3),1,0,-1)] * 4\n",
    "losses3 = [((3,3),(2,3),0,1,-1)] * 4 + [((2,3),(3,3),0,0,-1)] * 4\n",
    "losses4 = [((3,3),(1,3),0,1,-1)] * 4 + [((1,3),(3,3),0,0,-1)] * 4\n",
    "losses = losses1 + losses2 + losses3 + losses4\n",
    "\n",
    "# Extras\n",
    "extra = wins + losses\n",
    "train += extra"
   ]
  },
  {
   "cell_type": "code",
   "execution_count": 99,
   "metadata": {},
   "outputs": [
    {
     "data": {
      "image/png": "[encoded data removed]",
      "text/plain": [
       "<Figure size 432x288 with 1 Axes>"
      ]
     },
     "metadata": {},
     "output_type": "display_data"
    }
   ],
   "source": [
    "counts = get_counts(train)\n",
    "plot_counts(counts)"
   ]
  },
  {
   "cell_type": "code",
   "execution_count": null,
   "metadata": {},
   "outputs": [],
   "source": []
  }
 ],
 "metadata": {
  "kernelspec": {
   "display_name": "Python 3",
   "language": "python",
   "name": "python3"
  },
  "language_info": {
   "codemirror_mode": {
    "name": "ipython",
    "version": 3
   },
   "file_extension": ".py",
   "mimetype": "text/x-python",
   "name": "python",
   "nbconvert_exporter": "python",
   "pygments_lexer": "ipython3",
   "version": "3.6.13"
  }
 },
 "nbformat": 4,
 "nbformat_minor": 2
}
