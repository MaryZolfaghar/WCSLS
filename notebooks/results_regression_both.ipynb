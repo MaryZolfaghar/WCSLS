{
 "metadata": {
  "language_info": {
   "codemirror_mode": {
    "name": "ipython",
    "version": 3
   },
   "file_extension": ".py",
   "mimetype": "text/x-python",
   "name": "python",
   "nbconvert_exporter": "python",
   "pygments_lexer": "ipython3",
   "version": "3.6.13"
  },
  "orig_nbformat": 4,
  "kernelspec": {
   "name": "python3",
   "display_name": "Python 3.6.13 64-bit ('csls': conda)"
  },
  "interpreter": {
   "hash": "5ab752e21f80cd37e4dd3ae62015e4827f38c378f9410a931c965901aefa794a"
  }
 },
 "nbformat": 4,
 "nbformat_minor": 2,
 "cells": [
  {
   "cell_type": "code",
   "execution_count": 5,
   "metadata": {},
   "outputs": [],
   "source": [
    "import pickle\n",
    "import statsmodels.api as sm\n",
    "import numpy as np\n",
    "import matplotlib.pyplot as plt\n",
    "# import pandas as pd\n",
    "import seaborn as sns\n",
    "sns.set_theme()\n",
    "sns.set_style(\"darkgrid\")\n",
    "# sns.set_context(\"paper\")\n",
    "# sns.set_context(\"talk\")"
   ]
  },
  {
   "cell_type": "code",
   "execution_count": 145,
   "metadata": {},
   "outputs": [],
   "source": [
    "with open('results/results_mlp.P', 'rb') as f:\n",
    "    results = pickle.load(f)\n",
    "cortical_results_mlp = results['Cortical']['analysis']\n",
    "dist_results_mlp = cortical_results_mlp['dist_results']\n",
    "\n",
    "with open('results/results_rnn.P', 'rb') as f:\n",
    "    results = pickle.load(f)\n",
    "cortical_results_rnn = results['Cortical']['analysis']\n",
    "dist_results_rnn = cortical_results_rnn['dist_results']\n"
   ]
  },
  {
   "cell_type": "code",
   "execution_count": 146,
   "metadata": {},
   "outputs": [],
   "source": [
    "reg_results = analyze_regression(dist_results_mlp, dist_results_rnn)"
   ]
  },
  {
   "cell_type": "code",
   "execution_count": 148,
   "metadata": {},
   "outputs": [
    {
     "output_type": "execute_result",
     "data": {
      "text/plain": [
       "(10, 210, 4)"
      ]
     },
     "metadata": {},
     "execution_count": 148
    }
   ],
   "source": [
    "cat_regs = reg_results['cat_regs']\n",
    "con_regs = reg_results['con_regs']\n",
    "# categorical\n",
    "param_cat_regs = cat_regs['params']\n",
    "p_val_cat_regs = cat_regs['p_vals']\n",
    "param_cat_regs.shape"
   ]
  },
  {
   "cell_type": "code",
   "execution_count": null,
   "metadata": {},
   "outputs": [],
   "source": [
    "runs = param_cat_regs.shape[0]\n",
    "checkpoints = param_cat_regs.shape[1]\n",
    "ncoef = param_cat_regs.shape[2]\n",
    "# continuous\n",
    "param_con_regs = con_regs['params']\n",
    "p_val_con_regs = con_regs['p_vals']"
   ]
  },
  {
   "cell_type": "code",
   "execution_count": 137,
   "metadata": {},
   "outputs": [
    {
     "output_type": "error",
     "ename": "IndexError",
     "evalue": "tuple index out of range",
     "traceback": [
      "\u001b[0;31m---------------------------------------------------------------------------\u001b[0m",
      "\u001b[0;31mIndexError\u001b[0m                                Traceback (most recent call last)",
      "\u001b[0;32m<ipython-input-137-de55bb04925b>\u001b[0m in \u001b[0;36m<module>\u001b[0;34m\u001b[0m\n\u001b[0;32m----> 1\u001b[0;31m \u001b[0mplot_regression_result\u001b[0m\u001b[0;34m(\u001b[0m\u001b[0mreg_results\u001b[0m\u001b[0;34m)\u001b[0m\u001b[0;34m\u001b[0m\u001b[0;34m\u001b[0m\u001b[0m\n\u001b[0m",
      "\u001b[0;32m<ipython-input-133-2529978408df>\u001b[0m in \u001b[0;36mplot_regression_result\u001b[0;34m(reg_results)\u001b[0m\n\u001b[1;32m      7\u001b[0m         \u001b[0mruns\u001b[0m \u001b[0;34m=\u001b[0m \u001b[0mparam_cat_regs\u001b[0m\u001b[0;34m.\u001b[0m\u001b[0mshape\u001b[0m\u001b[0;34m[\u001b[0m\u001b[0;36m0\u001b[0m\u001b[0;34m]\u001b[0m\u001b[0;34m\u001b[0m\u001b[0;34m\u001b[0m\u001b[0m\n\u001b[1;32m      8\u001b[0m         \u001b[0mcheckpoints\u001b[0m \u001b[0;34m=\u001b[0m \u001b[0mparam_cat_regs\u001b[0m\u001b[0;34m.\u001b[0m\u001b[0mshape\u001b[0m\u001b[0;34m[\u001b[0m\u001b[0;36m1\u001b[0m\u001b[0;34m]\u001b[0m\u001b[0;34m\u001b[0m\u001b[0;34m\u001b[0m\u001b[0m\n\u001b[0;32m----> 9\u001b[0;31m         \u001b[0mncoef\u001b[0m \u001b[0;34m=\u001b[0m \u001b[0mparam_cat_regs\u001b[0m\u001b[0;34m.\u001b[0m\u001b[0mshape\u001b[0m\u001b[0;34m[\u001b[0m\u001b[0;36m2\u001b[0m\u001b[0;34m]\u001b[0m\u001b[0;34m\u001b[0m\u001b[0;34m\u001b[0m\u001b[0m\n\u001b[0m\u001b[1;32m     10\u001b[0m         \u001b[0;31m# continuous\u001b[0m\u001b[0;34m\u001b[0m\u001b[0;34m\u001b[0m\u001b[0;34m\u001b[0m\u001b[0m\n\u001b[1;32m     11\u001b[0m         \u001b[0mparam_con_regs\u001b[0m \u001b[0;34m=\u001b[0m \u001b[0mcon_regs\u001b[0m\u001b[0;34m[\u001b[0m\u001b[0;34m'params'\u001b[0m\u001b[0;34m]\u001b[0m\u001b[0;34m\u001b[0m\u001b[0;34m\u001b[0m\u001b[0m\n",
      "\u001b[0;31mIndexError\u001b[0m: tuple index out of range"
     ]
    }
   ],
   "source": [
    "plot_regression_result(reg_results)"
   ]
  },
  {
   "cell_type": "code",
   "execution_count": 133,
   "metadata": {},
   "outputs": [],
   "source": [
    "def plot_regression_result(reg_results):\n",
    "        cat_regs = reg_results['cat_regs']\n",
    "        con_regs = reg_results['con_regs']\n",
    "        # categorical\n",
    "        param_cat_regs = cat_regs['params']\n",
    "        p_val_cat_regs = cat_regs['p_vals']\n",
    "        runs = param_cat_regs.shape[0]\n",
    "        checkpoints = param_cat_regs.shape[1]\n",
    "        ncoef = param_cat_regs.shape[2]\n",
    "        # continuous\n",
    "        param_con_regs = con_regs['params']\n",
    "        p_val_con_regs = con_regs['p_vals']\n",
    "\n",
    "\n",
    "        fig, axs = plt.subplots(2, ncoef, figsize=(20,5))\n",
    "        for coef in range(ncoef):\n",
    "            val_name = 'regression_x%s' %(coef)\n",
    "            # categorical\n",
    "            val = param_cat_regs[:,:,coef]\n",
    "            df = pd.DataFrame(val, columns= np.arange(checkpoints))\n",
    "            df.insert(0, 'runs', np.arange(runs))\n",
    "            df2 = pd.melt(df, id_vars=['runs'],var_name='steps', value_name=val_name)\n",
    "            # plot\n",
    "            ax = axs[0][coef]\n",
    "            ax = sns.boxplot(x='steps', y=val_name, data=df2, ax=ax)\n",
    "            ax = sns.stripplot(x='steps', y=val_name, data=df2, ax=ax)\n",
    "            for run in range(runs):\n",
    "                for i, p in enumerate(p_val_cat_regs[run,:,coef]):\n",
    "                    s = '*' if p<0.05 else ' '\n",
    "                    ax.annotate(s, (i, param_cat_regs[run, i, coef]), color='r')\n",
    "            # continuous\n",
    "            val = param_con_regs[:,:,coef]\n",
    "            df = pd.DataFrame(val, columns= np.arange(checkpoints))\n",
    "            df.insert(0, 'runs', np.arange(runs))\n",
    "            df2 = pd.melt(df, id_vars=['runs'],var_name='steps', value_name=val_name)\n",
    "            # plot\n",
    "            ax = axs[1][coef]\n",
    "            ax = sns.boxplot(x='steps', y=val_name, data=df2, ax=ax)\n",
    "            ax = sns.stripplot(x='steps', y=val_name, data=df2, ax=ax)\n",
    "            for run in range(runs):\n",
    "                for i, p in enumerate(p_val_con_regs[run,:,coef]):\n",
    "                    s = '*' if p<0.05 else ' '\n",
    "                    ax.annotate(s, (i, param_con_regs[run, i, coef]), color='r')\n",
    "\n",
    "        return fig, axs\n"
   ]
  },
  {
   "cell_type": "code",
   "execution_count": 105,
   "metadata": {},
   "outputs": [],
   "source": [
    "def calc_phi(grid_angles):\n",
    "    phi = np.sin(2*grid_angles)\n",
    "    binary_phi = np.sign(phi)\n",
    "    for i, p in enumerate(phi):\n",
    "        if np.abs(p)<1e-5:\n",
    "            binary_phi[i] = 0\n",
    "            \n",
    "    return phi, binary_phi\n"
   ]
  },
  {
   "cell_type": "code",
   "execution_count": 152,
   "metadata": {},
   "outputs": [
    {
     "output_type": "stream",
     "name": "stdout",
     "text": [
      "10 21\n"
     ]
    }
   ],
   "source": [
    "    # hidd_dists_mlp = dist_results_mlp['hidd_dists']\n",
    "    # grid_angles    = dist_results_mlp['grid_angles']\n",
    "    # grid_dists     = dist_results_mlp['grid_dists']\n",
    "    # hidd_dists_rnn = dist_results_rnn['hidd_dists']\n",
    "    \n",
    "    # runs = hidd_dists_mlp.shape[0]\n",
    "    # checkpoints = hidd_dists_mlp.shape[1]\n",
    "    # print(runs, checkpoints)\n",
    "    "
   ]
  },
  {
   "cell_type": "code",
   "execution_count": 144,
   "metadata": {},
   "outputs": [],
   "source": [
    "def analyze_regression(dist_mlp, dist_rnn):\n",
    "    hidd_dists_mlp = dist_mlp['hidd_dists']\n",
    "    grid_angles    = dist_mlp['grid_angles']\n",
    "    grid_dists     = dist_mlp['grid_dists']\n",
    "    hidd_dists_rnn = dist_rnn['hidd_dists']\n",
    "    \n",
    "    runs = hidd_dists_mlp.shape[0]\n",
    "    checkpoints = hidd_dists_mlp.shape[1]\n",
    "    \n",
    "    \n",
    "    p_val_cat_regs, t_val_cat_regs, param_cat_regs, bse_cat_regs = ([] for i in range(4))\n",
    "    p_val_con_regs, t_val_con_regs, param_con_regs, bse_con_regs = ([] for i in range(4))\n",
    "\n",
    "    for run in range(runs):\n",
    "        p_val_cat_reg, t_val_cat_reg, param_cat_reg, bse_cat_reg = ([] for i in range(4))\n",
    "        p_val_con_reg, t_val_con_reg, param_con_reg, bse_con_reg = ([] for i in range(4))\n",
    "        for cp in range(checkpoints):\n",
    "            hidd_dist_mlp = hidd_dists_mlp[run][cp]\n",
    "            hidd_dist_rnn = hidd_dists_rnn[run][cp]\n",
    "            grid_dist     = grid_dists[run][cp]\n",
    "            grid_angle    = grid_angles[run][cp]\n",
    "            phi, b_phi    = calc_phi(grid_angle)\n",
    "\n",
    "            y = np.concatenate((hidd_dist_mlp, hidd_dist_rnn), axis=0)\n",
    "            x1 = np.concatenate((grid_dist, grid_dist), axis=0)\n",
    "            x3 = np.concatenate((np.ones(grid_dist.shape), -1*np.ones(grid_dist.shape)))\n",
    "\n",
    "            x2_cat = np.concatenate((phi, phi), axis=0)\n",
    "            x_cat = np.concatenate((x1.reshape((-1,1)), \n",
    "                                    x2_cat.reshape((-1,1)), \n",
    "                                    x3.reshape((-1,1))), axis=1)\n",
    "\n",
    "            x2_con = np.concatenate((b_phi, b_phi), axis=0)\n",
    "            x_con = np.concatenate((x1.reshape((-1,1)), \n",
    "                                    x2_con.reshape((-1,1)), \n",
    "                                    x3.reshape((-1,1))), axis=1)\n",
    "\n",
    "            # categorical regression analysis\n",
    "            x_cat = sm.add_constant(x_cat)\n",
    "            stats_model_cat = sm.OLS(y,x_cat).fit()\n",
    "            p_val_cat_reg.append(stats_model_cat.pvalues)\n",
    "            t_val_cat_reg.append(stats_model_cat.tvalues)\n",
    "            param_cat_reg.append(stats_model_cat.params)\n",
    "            bse_cat_reg.append(stats_model_cat.bse)\n",
    "            \n",
    "            # continuous regression analysis\n",
    "            x_con = sm.add_constant(x_con)\n",
    "            stats_model_con = sm.OLS(y,x_con).fit()\n",
    "            p_val_con_reg.append(stats_model_con.pvalues)\n",
    "            t_val_con_reg.append(stats_model_con.tvalues)\n",
    "            param_con_reg.append(stats_model_con.params)\n",
    "            bse_con_reg.append(stats_model_con.bse)\n",
    "\n",
    "        p_val_cat_regs.append(p_val_cat_reg)\n",
    "        t_val_cat_regs.append(t_val_cat_reg)\n",
    "        param_cat_regs.append(param_cat_reg)\n",
    "        bse_cat_regs.append(bse_cat_reg)\n",
    "        p_val_con_regs.append(p_val_con_reg)\n",
    "        t_val_con_regs.append(t_val_con_reg)\n",
    "        param_con_regs.append(param_con_reg)\n",
    "        bse_con_regs.append(bse_con_reg)\n",
    "\n",
    "    p_val_cat_regs = np.array(p_val_cat_regs)\n",
    "    t_val_cat_regs = np.array(t_val_cat_regs)\n",
    "    param_cat_regs = np.array(param_cat_regs)\n",
    "    bse_cat_regs = np.array(bse_cat_regs)\n",
    "\n",
    "    p_val_con_regs = np.array(p_val_con_regs)\n",
    "    t_val_con_regs = np.array(t_val_con_regs)\n",
    "    param_con_regs = np.array(param_con_regs)\n",
    "    bse_con_regs = np.array(bse_con_regs)\n",
    "\n",
    "    cat_regs = {'p_vals': p_val_cat_regs,\n",
    "               't_vals': t_val_cat_regs,\n",
    "               'params': param_cat_regs,\n",
    "               'bses': bse_cat_regs}\n",
    "\n",
    "    con_regs = {'p_vals': p_val_con_regs,\n",
    "               't_vals': t_val_con_regs,\n",
    "               'params': param_con_regs,\n",
    "               'bses': bse_con_regs}\n",
    "\n",
    "    reg_results = {'cat_regs': cat_regs, \n",
    "                   'con_regs': con_regs}\n",
    "    return reg_results\n",
    "\n"
   ]
  },
  {
   "cell_type": "code",
   "execution_count": 7,
   "metadata": {},
   "outputs": [],
   "source": []
  },
  {
   "cell_type": "code",
   "execution_count": null,
   "metadata": {},
   "outputs": [],
   "source": []
  }
 ]
}