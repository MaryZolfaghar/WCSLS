{
 "metadata": {
  "language_info": {
   "codemirror_mode": {
    "name": "ipython",
    "version": 3
   },
   "file_extension": ".py",
   "mimetype": "text/x-python",
   "name": "python",
   "nbconvert_exporter": "python",
   "pygments_lexer": "ipython3",
   "version": "3.6.13"
  },
  "orig_nbformat": 4,
  "kernelspec": {
   "name": "python3",
   "display_name": "Python 3.6.13 64-bit ('csls': conda)"
  },
  "interpreter": {
   "hash": "5ab752e21f80cd37e4dd3ae62015e4827f38c378f9410a931c965901aefa794a"
  }
 },
 "nbformat": 4,
 "nbformat_minor": 2,
 "cells": [
  {
   "cell_type": "code",
   "execution_count": null,
   "source": [
    "import pickle\n",
    "import statsmodels.api as sm\n",
    "import numpy as np\n",
    "import matplotlib.pyplot as plt\n",
    "import pandas as pd\n",
    "import seaborn as sns\n",
    "import sys\n",
    "sys.path.append('..')\n",
    "from utils.util import *\n",
    "sns.set_theme()\n",
    "sns.set_style(\"whitegrid\") #  {darkgrid, whitegrid, dark, white, ticks}\n",
    "sns.set_context(\"talk\")\n",
    "# sns.set_context(\"paper\")"
   ],
   "outputs": [],
   "metadata": {}
  },
  {
   "cell_type": "code",
   "execution_count": null,
   "source": [
    "model_names = ['mlp', 'rnn']\n",
    "analyze_names = ['calc_ratio', 'analyze_accs', 'analyze_ttest']\n",
    "ctx_order_strs = {'mlp':[None], 'rnn': ['ctxF', 'ctxL']}\n",
    "ctx_orders = {'mlp':[None], 'rnn': ['first', 'last']}\n",
    "\n",
    "anti_ablation = False\n",
    "\n",
    "if anti_ablation:\n",
    "    lesion_ps = [1, 10, 30, 50, 70, 90, 500, 1000, 10000] \n",
    "    savefig_str_r = 'antiablation_ratio_dists'\n",
    "    savefig_str_t ='antiablation_ttest_results'\n",
    "    savefig_str_ra = 'antiablation_ratio_accs'\n",
    "    savefig_str_cia = 'antiablation_cong_incong_accs'\n",
    "else:\n",
    "    lesion_ps = [0.1, 0.2, 0.3, 0.4, 0.5, 0.6, 0.7, 0.8, 0.9, 1] \n",
    "    savefig_str_r = 'ablation_ratio_dists'\n",
    "    savefig_str_t ='ablation_ttest_results'\n",
    "    savefig_str_ra = 'ablation_ratio_accs'\n",
    "    savefig_str_cia = 'ablation_cong_incong_accs'\n",
    "\n",
    "for analyze_name in analyze_names:\n",
    "    for model_name in model_names:\n",
    "        for lesion_p in lesion_ps:\n",
    "            for ctx_order_str in ctx_order_strs[model_name]:\n",
    "                if ctx_order_str is not None:\n",
    "                    result_str = '%s_%s_results_%s_lesionp%s.P' %(analyze_name, ctx_order_str, model_name, lesion_p)\n",
    "                else:\n",
    "                    result_str = '%s_results_%s_lesionp%s.P' %(analyze_name, model_name, lesion_p)\n",
    "                with open('../../results/%s' %(result_str), 'rb') as f:\n",
    "                    model_results = pickle.load(f)\n",
    "                model_run = dict_to_list(model_results, analyze_name)\n",
    "                if analyze_name == 'analyze_accs':\n",
    "                    if ctx_order_str is not None:\n",
    "                        str_list = '%slesion0%s_acc_runs_%s' %(model_name, int(lesion_p*10), ctx_order_str)\n",
    "                    else:\n",
    "                        str_list = '%slesion0%s_acc_runs' %(model_name, int(lesion_p*10))\n",
    "                    exec(\"{} = {}\".format(str_list, model_run))\n",
    "                if analyze_name == 'analyze_ttest':\n",
    "                    val_str = 't_stat_hidd'\n",
    "                    if ctx_order_str is not None:\n",
    "                        str_list = 'ttest_hidds_%slesion0%s_%s' %(model_name, int(lesion_p*10), ctx_order_str)\n",
    "                    else:\n",
    "                        str_list = 'ttest_hidds_%slesion0%s' %(model_name, int(lesion_p*10))\n",
    "                    exec(\"{} = []\".format(str_list))\n",
    "                    exec(\"{} = np.asarray({})\".format(str_list, model_run[val_str]))\n",
    "                if analyze_name == 'calc_ratio':\n",
    "                    val_str = 'ratio_hidd'\n",
    "                    if ctx_order_str is not None:\n",
    "                        str_list = 'ratio_hidds_%slesion0%s_%s' %(model_name, int(lesion_p*10), ctx_order_str)\n",
    "                    else:\n",
    "                        str_list = 'ratio_hidds_%slesion0%s' %(model_name, int(lesion_p*10))\n",
    "                    exec(\"{} = []\".format(str_list))\n",
    "                    exec(\"{} = np.asarray({})\".format(str_list, model_run[val_str]))"
   ],
   "outputs": [],
   "metadata": {}
  },
  {
   "cell_type": "code",
   "execution_count": null,
   "source": [
    "def runs_to_df(runs_result, ratio_hidds, ttest_hidds, lesion_p):\n",
    "        cong_train_accs, incong_train_accs = np.asarray(runs_result['cong_train_acc']),\\\n",
    "                                             np.asarray(runs_result['incong_train_acc'])\n",
    "        ratio_acc_train = cong_train_accs / incong_train_accs\n",
    "        # ------------\n",
    "        runs, checkpoints = cong_train_accs.shape\n",
    "        # ------------\n",
    "        ratio_hidd = pd.DataFrame(ratio_hidds, columns=np.arange(checkpoints), dtype=np.float) \n",
    "        ratio_hidd.insert(0, 'runs', np.arange(runs))\n",
    "        df_ratio_hidds = pd.melt(ratio_hidd, id_vars=['runs'], var_name='steps', value_name=\"Ratio Dist. (cong/incong)\")\n",
    "        df_ratio_hidds['Label'] = 'ratio_dist_hidds'\n",
    "        df_ratio_hidds['Lesion'] = str(lesion_p)\n",
    "        # ------------\n",
    "        ttest_hidd = pd.DataFrame(ttest_hidds, columns= np.arange(checkpoints), dtype=np.float)\n",
    "        ttest_hidd.insert(0, 'runs', np.arange(runs))\n",
    "        df_ttest_hidds = pd.melt(ttest_hidd, id_vars=['runs'],var_name='steps', value_name='t-values')\n",
    "        df_ttest_hidds['Label'] = 'tvalues_ttest'\n",
    "        df_ttest_hidds['Lesion'] = str(lesion_p)\n",
    "        # ------------\n",
    "        ratio_tr = pd.DataFrame(ratio_acc_train, columns=np.arange(checkpoints), dtype=np.float) \n",
    "        ratio_tr.insert(0, 'runs', np.arange(runs))\n",
    "        df_ratio_acc_tr = pd.melt(ratio_tr, id_vars=['runs'], var_name='steps', value_name=\"Ratio Acc. (cong/incong)\")\n",
    "        df_ratio_acc_tr['Label'] = 'ratio_accs_train'\n",
    "        df_ratio_acc_tr['Lesion'] = str(lesion_p)\n",
    "        # ------------\n",
    "        cong_tr = pd.DataFrame(cong_train_accs, columns=np.arange(checkpoints), dtype=np.float) \n",
    "        cong_tr.insert(0, 'runs', np.arange(runs))\n",
    "        df_cong_train = pd.melt(cong_tr, id_vars=['runs'], var_name='steps', value_name=\"Accuracy\")\n",
    "        df_cong_train['Label'] = 'cong' \n",
    "        df_cong_train['Lesion'] = str(lesion_p)\n",
    "        # ------------\n",
    "        incong_tr = pd.DataFrame(incong_train_accs, columns=np.arange(checkpoints), dtype=np.float) \n",
    "        incong_tr.insert(0, 'runs', np.arange(runs))\n",
    "        df_incong_train = pd.melt(incong_tr, id_vars=['runs'], var_name='steps', value_name=\"Accuracy\")\n",
    "        df_incong_train['Label'] = 'incong'\n",
    "        df_incong_train['Lesion'] = str(lesion_p)\n",
    "        # ------------\n",
    "        frames = [df_cong_train, df_incong_train]\n",
    "        df_acc_train = pd.concat(frames)\n",
    "        # ------------\n",
    "        dfs = df_ratio_hidds, df_ratio_acc_tr, df_acc_train, df_ttest_hidds\n",
    "        # ------------        \n",
    "        return dfs\n",
    "        \n",
    "def concat_dfs(ctx_order, ctx_order_str, model_name, lesion_ps):\n",
    "    dfs1 = []\n",
    "    dfs2 = []\n",
    "    dfs3 = []\n",
    "    dfs4 = []\n",
    "    for i, lesion_p in enumerate(lesion_ps):\n",
    "        if ctx_order is not None:\n",
    "            ratio_hidds = eval('ratio_hidds_%slesion0%s_%s' %(model_name, int(lesion_p*10), ctx_order_str))\n",
    "            ttest_hidds = eval('ttest_hidds_%slesion0%s_%s' %(model_name, int(lesion_p*10), ctx_order_str))\n",
    "            run_res = eval('%slesion0%s_acc_runs_%s' %(model_name, int(lesion_p*10), ctx_order_str))\n",
    "        else:\n",
    "            ratio_hidds = eval('ratio_hidds_%slesion0%s' %(model_name, int(lesion_p*10)))\n",
    "            ttest_hidds = eval('ttest_hidds_%slesion0%s' %(model_name, int(lesion_p*10)))\n",
    "            run_res = eval('%slesion0%s_acc_runs' %(model_name, int(lesion_p*10)))\n",
    "        # ------------\n",
    "        dfs = runs_to_df(run_res, ratio_hidds, ttest_hidds, lesion_p)\n",
    "        df_ratio_hidds, df_ratio_acc_tr,\\\n",
    "            df_acc_train, df_ttest_hidds = dfs\n",
    "        # ------------\n",
    "        dfs1.append(df_ratio_hidds)\n",
    "        dfs2.append(df_ratio_acc_tr)\n",
    "        dfs3.append(df_acc_train)\n",
    "        dfs4.append(df_ttest_hidds)\n",
    "    dfs_ratio_hidds = pd.concat(dfs1)\n",
    "    dfs_ratio_acc_tr = pd.concat(dfs2)\n",
    "    dfs_acc_train = pd.concat(dfs3)\n",
    "    dfs_ttest_hidds = pd.concat(dfs4)\n",
    "\n",
    "    return dfs_ratio_hidds, dfs_ratio_acc_tr, dfs_acc_train, dfs_ttest_hidds "
   ],
   "outputs": [],
   "metadata": {}
  },
  {
   "cell_type": "code",
   "execution_count": null,
   "source": [
    "def plot_ratio_dists(df, ctx_order, ctx_order_str, model_str, mfig_str, sub_title, ax, savefig_str):\n",
    "        mi, mx = 0, 5\n",
    "        val_name = \"Ratio Dist. (cong/incong)\"\n",
    "        \n",
    "        ax = sns.lineplot(data=df,\n",
    "                                x=\"steps\", y=val_name, hue=\"Lesion\", palette=\"flare\",\n",
    "                                marker=\"o\", dashes=False, err_style=\"bars\", ci=68, ax=ax)\n",
    "        ax.set_ylim([mi, mx])\n",
    "        ax.set_title(sub_title)\n",
    "        ax.axhline(y=1, color='r', linewidth=2)        \n",
    "        if ctx_order is not None:\n",
    "                fig.suptitle('%s - Ax %s' %(model_str, ctx_order), fontweight='bold', fontsize='25')\n",
    "        else:\n",
    "                fig.suptitle('%s' %(model_str), fontweight='bold', fontsize='25')\n",
    "        plt.legend(loc='upper left', fontsize = '13')\n",
    "        plt.tight_layout()\n",
    "        # savefig_str = 'ablation_ratio_dists'\n",
    "        fig_str = '%s_%s_results_%s' %(ctx_order_str, savefig_str, mfig_str)\n",
    "        fig.savefig(('../../figures/' + fig_str + '.pdf'), \n",
    "                        bbox_inches = 'tight', pad_inches = 0)\n",
    "        fig.savefig(('../../figures/' + fig_str + '.png'), \n",
    "                        bbox_inches = 'tight', pad_inches = 0)  \n",
    "        return ax\n",
    "\n",
    "def plot_ttest(df, ctx_order, ctx_order_str, model_str, mfig_str, sub_title, ax, savefig_str):\n",
    "        threshold = 1.96\n",
    "        mi, mx = -7, 10\n",
    "        val_name = \"t-values\"\n",
    "        \n",
    "        ax = sns.lineplot(data=df,\n",
    "                                x=\"steps\", y=val_name, hue=\"Lesion\", palette=\"flare\",\n",
    "                                marker=\"o\", dashes=False, err_style=\"bars\", ci=68, ax=ax)\n",
    "        ax.axhline(y=threshold, color='r', linewidth=2)\n",
    "        ax.axhline(y=-1*threshold, color='r', linewidth=2)\n",
    "        ax.set_ylim([mi, mx])\n",
    "        ax.set_title(sub_title)\n",
    "        if ctx_order is not None:\n",
    "                fig.suptitle('%s - Ax %s' %(model_str, ctx_order), fontweight='bold', fontsize='25')\n",
    "        else:\n",
    "                fig.suptitle('%s' %(model_str), fontweight='bold', fontsize='25')\n",
    "        plt.legend(loc='upper left', fontsize = '13')\n",
    "        plt.tight_layout()\n",
    "        # savefig_str='ablation_ttest_results'\n",
    "        fig_str = '%s_%s_%s' %(ctx_order_str, savefig_str, mfig_str)\n",
    "        fig.savefig(('../../figures/' + fig_str + '.pdf'), \n",
    "                        bbox_inches = 'tight', pad_inches = 0)\n",
    "        fig.savefig(('../../figures/' + fig_str + '.png'), \n",
    "                        bbox_inches = 'tight', pad_inches = 0)  \n",
    "        return ax\n",
    "\n",
    "def plot_ratio_accs(df, ctx_order, ctx_order_str, model_str, mfig_str, sub_title, ax, savefig_str):\n",
    "        mi, mx = 0, 5\n",
    "        val_name = \"Ratio Acc. (cong/incong)\"\n",
    "        \n",
    "        ax = sns.lineplot(data=df,\n",
    "                                x=\"steps\", y=val_name, hue=\"Lesion\", palette=\"flare\", \n",
    "                                marker='o', dashes=False, err_style=\"bars\", ci=68, ax=ax)\n",
    "        ax.axhline(y=1, color='r', linewidth=2)        \n",
    "        ax.set_ylim([mi, mx])\n",
    "        ax.set_title(sub_title)\n",
    "        if ctx_order is not None:\n",
    "                fig.suptitle('%s - Ax %s' %(model_str, ctx_order), fontweight='bold', fontsize='25')\n",
    "        else:\n",
    "                fig.suptitle('%s' %(model_str), fontweight='bold', fontsize='25')\n",
    "        plt.legend(loc='upper left', fontsize = '13')\n",
    "        plt.tight_layout()\n",
    "        # savefig_str = 'ablation_ratio_accs'\n",
    "        fig_str = '%s_%s_results_%s' %(ctx_order_str, savefig_str, mfig_str)\n",
    "        fig.savefig(('../../figures/' + fig_str + '.pdf'), \n",
    "                        bbox_inches = 'tight', pad_inches = 0)\n",
    "        fig.savefig(('../../figures/' + fig_str + '.png'), \n",
    "                        bbox_inches = 'tight', pad_inches = 0)\n",
    "        return ax\n",
    "\n",
    "def plot_cong_incong_accs(df, ctx_order, ctx_order_str, model_str, mfig_str, sub_title, ax, savefig_str):\n",
    "        mi, mx = 0, 2\n",
    "        val_name = \"Accuracy\"\n",
    "        ax = sns.lineplot(data=df,\n",
    "                    x=\"steps\", y=val_name, hue=\"Lesion\", style='Label', palette=\"flare\", \n",
    "                    markers=True, dashes=False, err_style=\"bars\",  ci=68, ax=ax)\n",
    "        ax.set_ylim([mi, mx])\n",
    "        ax.set_title(sub_title)  \n",
    "\n",
    "        if ctx_order is not None:\n",
    "                fig.suptitle('%s - Ax %s' %(model_str, ctx_order), fontweight='bold', fontsize='25')\n",
    "        else:\n",
    "                fig.suptitle('%s' %(model_str), fontweight='bold', fontsize='25')\n",
    "        plt.legend(loc='upper left', fontsize = '13')\n",
    "        plt.tight_layout()\n",
    "        # savefig_str = 'ablation_cong_incong_accs'\n",
    "        fig_str = '%s_%s_results_%s' %(ctx_order_str, savefig_str, mfig_str)\n",
    "        fig.savefig(('../../figures/' + fig_str + '.pdf'), \n",
    "                        bbox_inches = 'tight', pad_inches = 0)\n",
    "        fig.savefig(('../../figures/' + fig_str + '.png'), \n",
    "                        bbox_inches = 'tight', pad_inches = 0)\n",
    "\n",
    "        return ax\n",
    "\n"
   ],
   "outputs": [],
   "metadata": {}
  },
  {
   "cell_type": "markdown",
   "source": [
    "# RNN"
   ],
   "metadata": {}
  },
  {
   "cell_type": "code",
   "execution_count": null,
   "source": [
    "figx, figy = 12, 6"
   ],
   "outputs": [],
   "metadata": {}
  },
  {
   "cell_type": "markdown",
   "source": [
    "# Lesioned RNN"
   ],
   "metadata": {}
  },
  {
   "cell_type": "markdown",
   "source": [
    "## Axis First"
   ],
   "metadata": {}
  },
  {
   "cell_type": "code",
   "execution_count": null,
   "source": [
    "ctx_order, ctx_order_str, model_str, mfig_str, sub_title = 'first', 'ctxF', 'Lesioned RNN', 'rnnlesionall', ''\n",
    "model_name = 'rnn'\n",
    "    \n",
    "dfs_ratio_hidds, dfs_ratio_acc_tr, dfs_acc_train, dfs_ttest_hidds = \\\n",
    "    concat_dfs(ctx_order, ctx_order_str, model_name, lesion_ps)"
   ],
   "outputs": [],
   "metadata": {}
  },
  {
   "cell_type": "code",
   "execution_count": null,
   "source": [
    "np.unique(dfs_ratio_hidds['Lesion'])"
   ],
   "outputs": [],
   "metadata": {}
  },
  {
   "cell_type": "code",
   "execution_count": null,
   "source": [
    "fig, ax = plt.subplots(figsize=(figx,figy))\n",
    "plot_ratio_dists(dfs_ratio_hidds, ctx_order, ctx_order_str, model_str, mfig_str, sub_title, ax, savefig_str_r)"
   ],
   "outputs": [],
   "metadata": {}
  },
  {
   "cell_type": "code",
   "execution_count": null,
   "source": [
    "fig, ax = plt.subplots(figsize=(figx,figy))\n",
    "plot_ttest(dfs_ttest_hidds, ctx_order, ctx_order_str, model_str, mfig_str, sub_title, ax, savefig_str_t)"
   ],
   "outputs": [],
   "metadata": {}
  },
  {
   "cell_type": "code",
   "execution_count": null,
   "source": [
    "fig, ax = plt.subplots(figsize=(figx,figy))\n",
    "plot_ratio_accs(dfs_ratio_acc_tr, ctx_order, ctx_order_str, model_str, mfig_str, sub_title, ax, savefig_str_ra)"
   ],
   "outputs": [],
   "metadata": {}
  },
  {
   "cell_type": "code",
   "execution_count": null,
   "source": [
    "fig, ax = plt.subplots(figsize=(figx,figy))\n",
    "plot_cong_incong_accs(dfs_acc_train, ctx_order, ctx_order_str, model_str, mfig_str, sub_title, ax, savefig_str_cia)"
   ],
   "outputs": [],
   "metadata": {}
  },
  {
   "cell_type": "markdown",
   "source": [
    "## Ax last"
   ],
   "metadata": {}
  },
  {
   "cell_type": "code",
   "execution_count": null,
   "source": [
    "ctx_order, ctx_order_str, model_str, mfig_str, sub_title = 'last', 'ctxL', 'Lesioned RNN', 'rnnlesionall', ''\n",
    "model_name = 'rnn'\n",
    "# lesion_ps = [0.1, 0.3, 0.5, 0.7, 0.9]\n",
    "dfs_ratio_hidds, dfs_ratio_acc_tr, dfs_acc_train, dfs_ttest_hidds = \\\n",
    "    concat_dfs(ctx_order, ctx_order_str, model_name, lesion_ps)"
   ],
   "outputs": [],
   "metadata": {}
  },
  {
   "cell_type": "code",
   "execution_count": null,
   "source": [
    "fig, ax = plt.subplots(figsize=(figx,figy))\n",
    "plot_ratio_dists(dfs_ratio_hidds, ctx_order, ctx_order_str, model_str, mfig_str, sub_title, ax, savefig_str_r)"
   ],
   "outputs": [],
   "metadata": {}
  },
  {
   "cell_type": "code",
   "execution_count": null,
   "source": [
    "fig, ax = plt.subplots(figsize=(figx,figy))\n",
    "plot_ttest(dfs_ttest_hidds, ctx_order, ctx_order_str, model_str, mfig_str, sub_title, ax, savefig_str_t)"
   ],
   "outputs": [],
   "metadata": {}
  },
  {
   "cell_type": "code",
   "execution_count": null,
   "source": [
    "fig, ax = plt.subplots(figsize=(figx,figy))\n",
    "plot_ratio_accs(dfs_ratio_acc_tr, ctx_order, ctx_order_str, model_str, mfig_str, sub_title, ax, savefig_str_ra)"
   ],
   "outputs": [],
   "metadata": {}
  },
  {
   "cell_type": "code",
   "execution_count": null,
   "source": [
    "fig, ax = plt.subplots(figsize=(figx,figy))\n",
    "plot_cong_incong_accs(dfs_acc_train, ctx_order, ctx_order_str, model_str, mfig_str, sub_title, ax, savefig_str_cia)"
   ],
   "outputs": [],
   "metadata": {}
  },
  {
   "cell_type": "markdown",
   "source": [
    "# MLP"
   ],
   "metadata": {}
  },
  {
   "cell_type": "code",
   "execution_count": null,
   "source": [
    "ctx_order, ctx_order_str, model_str, mfig_str, sub_title = None, None, 'Lesioned MLP', 'mlplesionall', ''\n",
    "model_name = 'mlp'\n",
    "# lesion_ps = [0.1, 0.3, 0.5, 0.7, 0.9]\n",
    "dfs_ratio_hidds, dfs_ratio_acc_tr, dfs_acc_train, dfs_ttest_hidds = \\\n",
    "    concat_dfs(ctx_order, ctx_order_str, model_name, lesion_ps)"
   ],
   "outputs": [],
   "metadata": {}
  },
  {
   "cell_type": "code",
   "execution_count": null,
   "source": [
    "fig, ax = plt.subplots(figsize=(figx,figy))\n",
    "plot_ratio_dists(dfs_ratio_hidds, ctx_order, ctx_order_str, model_str, mfig_str, sub_title, ax, savefig_str_r)"
   ],
   "outputs": [],
   "metadata": {}
  },
  {
   "cell_type": "code",
   "execution_count": null,
   "source": [
    "fig, ax = plt.subplots(figsize=(figx,figy))\n",
    "plot_ttest(dfs_ttest_hidds, ctx_order, ctx_order_str, model_str, mfig_str, sub_title, ax, savefig_str_t)"
   ],
   "outputs": [],
   "metadata": {}
  },
  {
   "cell_type": "code",
   "execution_count": null,
   "source": [
    "fig, ax = plt.subplots(figsize=(figx,figy))\n",
    "plot_ratio_accs(dfs_ratio_acc_tr, ctx_order, ctx_order_str, model_str, mfig_str, sub_title, ax, savefig_str_ra)"
   ],
   "outputs": [],
   "metadata": {}
  },
  {
   "cell_type": "code",
   "execution_count": null,
   "source": [
    "fig, ax = plt.subplots(figsize=(figx,figy))\n",
    "plot_cong_incong_accs(dfs_acc_train, ctx_order, ctx_order_str, model_str, mfig_str, sub_title, ax, savefig_str_cia)"
   ],
   "outputs": [],
   "metadata": {}
  },
  {
   "cell_type": "code",
   "execution_count": null,
   "source": [],
   "outputs": [],
   "metadata": {}
  }
 ]
}