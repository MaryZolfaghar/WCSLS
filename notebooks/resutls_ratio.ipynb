{
 "metadata": {
  "language_info": {
   "codemirror_mode": {
    "name": "ipython",
    "version": 3
   },
   "file_extension": ".py",
   "mimetype": "text/x-python",
   "name": "python",
   "nbconvert_exporter": "python",
   "pygments_lexer": "ipython3",
   "version": "3.6.13"
  },
  "orig_nbformat": 4,
  "kernelspec": {
   "name": "python3",
   "display_name": "Python 3.6.13 64-bit ('csls': conda)"
  },
  "interpreter": {
   "hash": "5ab752e21f80cd37e4dd3ae62015e4827f38c378f9410a931c965901aefa794a"
  }
 },
 "nbformat": 4,
 "nbformat_minor": 2,
 "cells": [
  {
   "cell_type": "code",
   "execution_count": 2,
   "metadata": {},
   "outputs": [],
   "source": [
    "import pickle\n",
    "import statsmodels.api as sm\n",
    "import numpy as np\n",
    "import matplotlib.pyplot as plt\n",
    "import pandas as pd\n",
    "import seaborn as sns\n",
    "sns.set_theme()\n",
    "sns.set_style(\"darkgrid\")\n",
    "# sns.set_context(\"paper\")\n",
    "# sns.set_context(\"talk\")"
   ]
  },
  {
   "cell_type": "code",
   "execution_count": 3,
   "metadata": {},
   "outputs": [],
   "source": [
    "with open('../../results/results_mlp_ratio.P', 'rb') as f:\n",
    "    results = pickle.load(f)\n",
    "cortical_results_mlp = results['Cortical']['analysis']\n",
    "\n",
    "with open('../../results/results_rnn_ratio.P', 'rb') as f:\n",
    "    results = pickle.load(f)\n",
    "cortical_results_rnn = results['Cortical']['analysis']\n"
   ]
  },
  {
   "cell_type": "code",
   "execution_count": 4,
   "metadata": {},
   "outputs": [],
   "source": [
    "ratio_results_mlp =  cortical_results_mlp['ratio_results']\n",
    "ratio_results_rnn =  cortical_results_rnn['ratio_results']"
   ]
  },
  {
   "cell_type": "code",
   "execution_count": null,
   "metadata": {},
   "outputs": [],
   "source": []
  },
  {
   "cell_type": "code",
   "execution_count": null,
   "metadata": {},
   "outputs": [],
   "source": [
    "# MLP\n",
    "ratio_hidds_mlp = ratio_results_mlp['ratio_hidds']\n",
    "# RNN\n",
    "ratio_hidds_rnn = ratio_results_rnn['ratio_hidds']\n",
    "\n",
    "runs = ratio_hidds_mlp.shape[0]\n",
    "checkpoints = ratio_hidds_mlp.shape[1]\n",
    "print('runs, checkpoints: ', runs, checkpoints)\n",
    "\n",
    "fig, axs = plt.subplots(2, 1, figsize=(10,8))\n",
    "val_name = 'ratio(cong/incong)'\n",
    "threshold = 1\n",
    "# MLP\n",
    "val = ratio_hidds_mlp\n",
    "df = pd.DataFrame(val, columns= np.arange(checkpoints))\n",
    "df.insert(0, 'runs', np.arange(runs))\n",
    "df2 = pd.melt(df, id_vars=['runs'],var_name='steps', value_name=val_name)\n",
    "# plot\n",
    "ax = axs[0]\n",
    "ax = sns.boxplot(x='steps', y=val_name, data=df2, ax=ax)\n",
    "ax = sns.stripplot(x='steps', y=val_name, data=df2, ax=ax)\n",
    "ax.set_title('MLP')\n",
    "\n",
    "# RNN\n",
    "val = ratio_hidds_rnn\n",
    "df = pd.DataFrame(val, columns= np.arange(checkpoints))\n",
    "df.insert(0, 'runs', np.arange(runs))\n",
    "df2 = pd.melt(df, id_vars=['runs'],var_name='steps', value_name=val_name)\n",
    "# plot\n",
    "ax = axs[1]\n",
    "ax = sns.boxplot(x='steps', y=val_name, data=df2, ax=ax)\n",
    "ax = sns.stripplot(x='steps', y=val_name, data=df2, ax=ax)\n",
    "ax.set_title('RNN')\n",
    "\n",
    "for ax in axs:\n",
    "    ax.axhline(y=threshold, color='r', linewidth=2)\n",
    "    ax.axhline(y=-1*threshold, color='r', linewidth=2)\n",
    "\n",
    "fig.suptitle('Ratio Results', fontweight='bold')\n",
    "plt.tight_layout()\n",
    "fig_str = 'ratio_results_both_models_hidds'\n",
    "fig.savefig(('../../figures/' + fig_str + '.pdf'), \n",
    "        bbox_inches = 'tight', pad_inches = 0)\n",
    "\n",
    "\n"
   ]
  },
  {
   "cell_type": "code",
   "execution_count": null,
   "metadata": {},
   "outputs": [],
   "source": []
  },
  {
   "cell_type": "code",
   "execution_count": null,
   "metadata": {},
   "outputs": [],
   "source": []
  }
 ]
}