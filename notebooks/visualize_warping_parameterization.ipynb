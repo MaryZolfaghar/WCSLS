{
 "cells": [
  {
   "cell_type": "markdown",
   "id": "dac9cafa",
   "metadata": {},
   "source": [
    "# Visualize warping over training"
   ]
  },
  {
   "cell_type": "code",
   "execution_count": 1,
   "id": "02046516",
   "metadata": {},
   "outputs": [],
   "source": [
    "import pickle\n",
    "import os\n",
    "import imageio\n",
    "import numpy as np\n",
    "import matplotlib.pyplot as plt\n",
    "from matplotlib import cm\n",
    "from matplotlib.colors import Normalize"
   ]
  },
  {
   "cell_type": "markdown",
   "id": "480b01cc",
   "metadata": {},
   "source": [
    "#### Load results"
   ]
  },
  {
   "cell_type": "markdown",
   "id": "95538eee",
   "metadata": {},
   "source": [
    "MLP filenames"
   ]
  },
  {
   "cell_type": "code",
   "execution_count": 24,
   "id": "a35bdf8a",
   "metadata": {},
   "outputs": [],
   "source": [
    "vis_results_fn = '../../results/get_vis_parameters_results_mlp.P'\n",
    "acc_results_fn = '../../results/analyze_accs_results_mlp.P'\n",
    "ratio_results_fn = '../../results/calc_ratio_results_mlp.P'\n",
    "model_name = 'mlp'"
   ]
  },
  {
   "cell_type": "markdown",
   "id": "624f6500",
   "metadata": {},
   "source": [
    "RNN filenames"
   ]
  },
  {
   "cell_type": "code",
   "execution_count": null,
   "id": "d6293e1b",
   "metadata": {},
   "outputs": [],
   "source": [
    "vis_results_fn = '../../results/get_vis_parameters_ctxF_results_rnn.P'\n",
    "acc_results_fn = '../../results/analyze_accs_ctxF_results_rnn.P'\n",
    "ratio_results_fn = '../../results/calc_ratio_ctxF_results_rnn.P'\n",
    "model_name = 'rnn'"
   ]
  },
  {
   "cell_type": "markdown",
   "id": "ac04645c",
   "metadata": {},
   "source": [
    "Open files, load data"
   ]
  },
  {
   "cell_type": "code",
   "execution_count": 25,
   "id": "9c565e81",
   "metadata": {},
   "outputs": [],
   "source": [
    "with open(vis_results_fn, 'rb') as f:\n",
    "    vis_results = pickle.load(f)\n",
    "\n",
    "with open(acc_results_fn, 'rb') as f:\n",
    "    acc_results = pickle.load(f)\n",
    "    \n",
    "with open(ratio_results_fn, 'rb') as f:\n",
    "    ratio_results = pickle.load(f)"
   ]
  },
  {
   "cell_type": "code",
   "execution_count": 26,
   "id": "a3acad4f",
   "metadata": {},
   "outputs": [],
   "source": [
    "run_id = 0\n",
    "params = vis_results['get_vis_parameters'][run_id]\n",
    "n_states = params[0]['n_states']\n",
    "locs = params[0]['locs']\n",
    "idx2loc = params[0]['idx2loc']\n",
    "G_idxs = params[0]['G_idxs']\n",
    "H_idxs = params[0]['H_idxs']\n",
    "n_steps = len(params)\n",
    "\n",
    "acc_results = acc_results['analyze_accs'][run_id]\n",
    "accs = np.zeros([n_steps,2]) # congruent, incongruent\n",
    "for t,r in enumerate(acc_results):\n",
    "    accs[t,0] = r['cong_train_acc']\n",
    "    accs[t,1] = r['incong_train_acc']\n",
    "\n",
    "    \n",
    "warping = [r['ratio_hidd'] for r in ratio_results['calc_ratio'][run_id]]\n",
    "acc_ratio = [a[0]/a[1] for a in accs]"
   ]
  },
  {
   "cell_type": "markdown",
   "id": "45473849",
   "metadata": {},
   "source": [
    "#### Use parameters to reconstruct grid"
   ]
  },
  {
   "cell_type": "code",
   "execution_count": 27,
   "id": "fd9d9ec3",
   "metadata": {},
   "outputs": [],
   "source": [
    "idx2g = {}\n",
    "for idx in range(n_states):\n",
    "    for g, group in enumerate(G_idxs):\n",
    "        if idx in group:\n",
    "            idx2g[idx] = g\n",
    "\n",
    "idx2h = {}\n",
    "for idx in range(n_states):\n",
    "    for h, group in enumerate(H_idxs):\n",
    "        if idx in group:\n",
    "            idx2h[idx] = h"
   ]
  },
  {
   "cell_type": "code",
   "execution_count": 28,
   "id": "7a2e60ac",
   "metadata": {},
   "outputs": [],
   "source": [
    "def generate_grid(alpha, beta):\n",
    "    cum_alpha = np.zeros(7)\n",
    "    cum_beta = np.zeros(7)\n",
    "    cum_alpha[1:] = np.cumsum(alpha)\n",
    "    cum_beta[1:] = np.cumsum(beta)\n",
    "    \n",
    "    # Get x and y coordinate in rotated basis\n",
    "    X = np.zeros([16, 2])\n",
    "    for idx in range(16):\n",
    "        g = idx2g[idx] # G group\n",
    "        h = idx2h[idx] # H group\n",
    "        X[idx,0] = cum_alpha[g] # x coordinate\n",
    "        X[idx,1] = cum_beta[h]  # y coordinate\n",
    "    \n",
    "    # Unrotate\n",
    "    unrotate = np.array([[np.cos(-np.pi/4), -np.sin(-np.pi/4)],\n",
    "                        [np.sin(-np.pi/4), np.cos(-np.pi/4)]])\n",
    "    X = X @ unrotate\n",
    "    \n",
    "    # Mean-center\n",
    "    X = X - np.mean(X, axis=0, keepdims=True)\n",
    "    \n",
    "    return X"
   ]
  },
  {
   "cell_type": "markdown",
   "id": "66f450a8",
   "metadata": {},
   "source": [
    "Get reconstructed grid for each time step"
   ]
  },
  {
   "cell_type": "code",
   "execution_count": 29,
   "id": "d8055450",
   "metadata": {},
   "outputs": [],
   "source": [
    "reconstruction = np.zeros([n_steps, n_states, 2])\n",
    "for t,p in enumerate(params):\n",
    "    alpha = p['alpha']\n",
    "    beta = p['beta']\n",
    "    X = generate_grid(alpha, beta)\n",
    "    reconstruction[t,:,:] = X"
   ]
  },
  {
   "cell_type": "markdown",
   "id": "ddb27245",
   "metadata": {},
   "source": [
    "### Make .gif"
   ]
  },
  {
   "cell_type": "code",
   "execution_count": 30,
   "id": "86660137",
   "metadata": {},
   "outputs": [],
   "source": [
    "#reconstruction = reconstruction[:50]"
   ]
  },
  {
   "cell_type": "code",
   "execution_count": 31,
   "id": "91a68733",
   "metadata": {},
   "outputs": [],
   "source": [
    "xmin = np.min(reconstruction[:,:,0])\n",
    "xmax = np.max(reconstruction[:,:,0])\n",
    "ymin = np.min(reconstruction[:,:,1])\n",
    "ymax = np.max(reconstruction[:,:,1])\n",
    "eps = 0.1*(np.max([xmax-xmin, ymax-ymin]))\n",
    "\n",
    "warping_max = np.max(warping)\n",
    "warping_min = np.min(warping)\n",
    "acc_ratio_max = np.max(acc_ratio)\n",
    "acc_ratio_min = np.min(acc_ratio)\n",
    "ratio_max = np.max([warping_max, acc_ratio_max])+0.1\n",
    "ratio_min = np.min([warping_min, acc_ratio_min])-0.1\n",
    "\n",
    "cmap = plt.get_cmap('hot')\n",
    "normalized_warping = [w/(warping_max+1) for w in warping]\n",
    "colors = [cmap(nw) for nw in normalized_warping]\n",
    "norm = Normalize(vmin=np.min(warping), \n",
    "                 vmax=np.max(warping), \n",
    "                 clip=True)"
   ]
  },
  {
   "cell_type": "code",
   "execution_count": 32,
   "id": "68f2416b",
   "metadata": {},
   "outputs": [],
   "source": [
    "filenames = []\n",
    "for t,M in enumerate(reconstruction):\n",
    "    fig, ax = plt.subplots(3, 1, \n",
    "                           figsize=[8,12], \n",
    "                           gridspec_kw={'height_ratios': [1,1,3]})\n",
    "\n",
    "    # Congruent vs. incongruent accuracies over time\n",
    "    ax[0].plot(accs[:t])\n",
    "    ax[0].plot(t-1, accs[t-1,0], marker='o', c='tab:blue')\n",
    "    ax[0].plot(t-1, accs[t-1,1], marker='o', c='tab:orange')\n",
    "    ax[0].set_title(\"Congruent vs. incongruent accuracy\")\n",
    "    ax[0].set_xlim([0,n_steps])\n",
    "    ax[0].set_ylim([-0.05,1.05])\n",
    "    ax[0].set_xlabel(\"Steps\")\n",
    "    ax[0].set_ylabel(\"Accuracy\")\n",
    "    ax[0].legend(['Congruent', 'Incongruent'], loc='lower right')\n",
    "\n",
    "    # Warping vs. accuracy ratio\n",
    "    ax[1].plot(warping[:t], c='tab:green')\n",
    "    ax[1].plot(acc_ratio[:t], c='tab:purple')\n",
    "    ax[1].plot(t-1, warping[t-1], marker='o', c='tab:green')\n",
    "    ax[1].plot(t-1, acc_ratio[t-1], marker='o', c='tab:purple')\n",
    "    ax[1].set_title(\"Warping\")\n",
    "    ax[1].set_xlim([0,n_steps])\n",
    "    ax[1].set_ylim([ratio_min,ratio_max])\n",
    "    ax[1].set_xlabel(\"Steps\")\n",
    "    ax[1].set_ylabel(\"Ratio\")\n",
    "    ax[1].legend(['Distance', 'Accuracy'], loc='upper right')\n",
    "\n",
    "    # Reconstructed grid\n",
    "    scatter = ax[2].scatter(M[:,0], M[:,1], color=colors[t])\n",
    "    for loc,m in zip(locs,M):\n",
    "        ax[2].annotate(loc,m)\n",
    "    main_title = \"{} Representations (reconstructed)\".format(model_name.upper())\n",
    "    ax[2].set_title(main_title)\n",
    "    ax[2].set_xlim([xmin-eps, xmax+eps])\n",
    "    ax[2].set_ylim([ymin-eps, ymax+eps])\n",
    "    ax[2].set_xticks([])\n",
    "    ax[2].set_yticks([])\n",
    "    colorbar = fig.colorbar(cm.ScalarMappable(norm=norm, cmap=cmap), \n",
    "                            ax=ax[2], aspect=40, fraction=0.03, pad=0.02)\n",
    "    colorbar.ax.set_ylabel('Warping', rotation=270, labelpad=15)\n",
    "    \n",
    "    plt.tight_layout()\n",
    "    filename = '../../results/visualize_warping_{}{}.png'.format(model_name, t)\n",
    "    filenames.append(filename)\n",
    "    \n",
    "    # More time on first and last frames\n",
    "    if t in [0, n_steps-1]:\n",
    "        for extra_time in range(20):\n",
    "            filenames.append(filename)\n",
    "    # More time at maximum warping\n",
    "    elif warping[t-1] == warping_max:\n",
    "        for extra_time in range(20):\n",
    "            filenames.append(filename)\n",
    "    plt.savefig(filename, dpi=100)\n",
    "    plt.close()"
   ]
  },
  {
   "cell_type": "code",
   "execution_count": 33,
   "id": "36325feb",
   "metadata": {},
   "outputs": [],
   "source": [
    "# write .gif\n",
    "gif_name = '../../results/visualize_reconstructed_warping_{}.gif'.format(model_name)\n",
    "with imageio.get_writer(gif_name, mode='I') as writer:\n",
    "    for filename in filenames:\n",
    "        image = imageio.imread(filename)\n",
    "        writer.append_data(image)"
   ]
  },
  {
   "cell_type": "code",
   "execution_count": 34,
   "id": "c2c3abc2",
   "metadata": {},
   "outputs": [],
   "source": [
    "# remove files\n",
    "for filename in set(filenames):\n",
    "    if os.path.isfile(filename):\n",
    "        os.remove(filename)"
   ]
  },
  {
   "cell_type": "markdown",
   "id": "6d8f60c0",
   "metadata": {},
   "source": [
    "<img src=\"visualize_reconstructed_warping_rnn.gif\" width=\"750\" align=\"center\">"
   ]
  },
  {
   "cell_type": "markdown",
   "id": "1a755fd9",
   "metadata": {},
   "source": [
    "<img src=\"visualize_reconstructed_warping_mlp.gif\" width=\"750\" align=\"center\">"
   ]
  },
  {
   "cell_type": "code",
   "execution_count": null,
   "id": "844306c9",
   "metadata": {},
   "outputs": [],
   "source": []
  }
 ],
 "metadata": {
  "kernelspec": {
   "display_name": "Python 3",
   "language": "python",
   "name": "python3"
  },
  "language_info": {
   "codemirror_mode": {
    "name": "ipython",
    "version": 3
   },
   "file_extension": ".py",
   "mimetype": "text/x-python",
   "name": "python",
   "nbconvert_exporter": "python",
   "pygments_lexer": "ipython3",
   "version": "3.6.13"
  }
 },
 "nbformat": 4,
 "nbformat_minor": 5
}
