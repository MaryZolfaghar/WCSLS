{
 "metadata": {
  "language_info": {
   "codemirror_mode": {
    "name": "ipython",
    "version": 3
   },
   "file_extension": ".py",
   "mimetype": "text/x-python",
   "name": "python",
   "nbconvert_exporter": "python",
   "pygments_lexer": "ipython3",
   "version": "3.6.13"
  },
  "orig_nbformat": 4,
  "kernelspec": {
   "name": "python3",
   "display_name": "Python 3.6.13 64-bit ('csls': conda)"
  },
  "interpreter": {
   "hash": "5ab752e21f80cd37e4dd3ae62015e4827f38c378f9410a931c965901aefa794a"
  }
 },
 "nbformat": 4,
 "nbformat_minor": 2,
 "cells": [
  {
   "cell_type": "code",
   "execution_count": 1,
   "metadata": {},
   "outputs": [],
   "source": [
    "import pickle\n",
    "import numpy as np\n",
    "import matplotlib.pyplot as plt\n",
    "import seaborn as sns\n",
    "import pandas as pd\n",
    "from scipy.stats import pearsonr, ttest_ind\n",
    "import sys\n",
    "sys.path.append(\"..\")\n",
    "from dataset import get_loaders"
   ]
  },
  {
   "cell_type": "code",
   "execution_count": 2,
   "metadata": {},
   "outputs": [],
   "source": [
    "data = get_loaders(batch_size=32, meta=False,\n",
    "                    use_images=True, image_dir='../images/',\n",
    "                    n_episodes=None)\n",
    "train_data, train_loader, test_data, test_loader, analyze_data, analyze_loader = data\n"
   ]
  },
  {
   "cell_type": "code",
   "execution_count": 3,
   "metadata": {},
   "outputs": [],
   "source": [
    "idx2loc = {idx:loc for loc, idx in test_data.loc2idx.items()}"
   ]
  },
  {
   "cell_type": "code",
   "execution_count": 12,
   "metadata": {},
   "outputs": [
    {
     "output_type": "stream",
     "name": "stdout",
     "text": [
      "dict_keys(['Episodic', 'Cortical'])\n"
     ]
    }
   ],
   "source": [
    "with open('../../results/results_rnn.P', 'rb') as f:\n",
    "    results = pickle.load(f)\n",
    "print(results.keys())"
   ]
  },
  {
   "cell_type": "code",
   "execution_count": 13,
   "metadata": {},
   "outputs": [],
   "source": [
    "analyze_correct = results['Cortical']['analyze_correct']"
   ]
  },
  {
   "cell_type": "code",
   "execution_count": 16,
   "metadata": {},
   "outputs": [
    {
     "output_type": "stream",
     "name": "stdout",
     "text": [
      "Accuracy at t=1 (face1) contex 0: [0.0, 0.3333333333333333, 0.6666666666666666, 0.75]\nAccuracy at t=1 (face1) contex 1: [0.0, 0.5, 0.4166666666666667, 0.25]\n"
     ]
    }
   ],
   "source": [
    "hidd_t_idx = 1 # at what time step, t = 1 means at the time of face1 \n",
    "                              # and t = 2 means at the time of face2\n",
    "# create groups based on the row or columns\n",
    "# e.g, for context0 (xaxis), first column is group 1, sec col is group 2, and so on.\n",
    "# 4 groups for each axis/context; total 8 groups\n",
    "\n",
    "ctx0_g0=[]\n",
    "ctx0_g1=[]\n",
    "ctx0_g2=[]\n",
    "ctx0_g3=[]\n",
    "\n",
    "ctx1_g0=[]\n",
    "ctx1_g1=[]\n",
    "ctx1_g2=[]\n",
    "ctx1_g3=[]\n",
    "\n",
    "for i, batch in enumerate(analyze_loader):\n",
    "    f1, f2, ax, y, idx1, idx2 = batch\n",
    "    acc = analyze_correct[i][hidd_t_idx]\n",
    "    ax = ax.cpu().numpy().squeeze()\n",
    "    idx1 = idx1[0]\n",
    "    idx2 = idx2[0]\n",
    "    loc1 = idx2loc[idx1]\n",
    "    loc2 = idx2loc[idx2]\n",
    "    if ax==0:\n",
    "        if loc1[ax]==0: ctx0_g0.append(acc) # (len(all_perms)/2) / 4 = [48]\n",
    "        elif loc1[ax]==1: ctx0_g1.append(acc)\n",
    "        elif loc1[ax]==2: ctx0_g2.append(acc)\n",
    "        elif loc1[ax]==3: ctx0_g3.append(acc)\n",
    "    elif ax==1:\n",
    "        if loc1[ax]==0: ctx1_g0.append(acc)\n",
    "        elif loc1[ax]==1: ctx1_g1.append(acc)\n",
    "        elif loc1[ax]==2: ctx1_g2.append(acc)\n",
    "        elif loc1[ax]==3: ctx1_g3.append(acc)\n",
    "ctx0_accs = [np.mean(ctx0_g0), np.mean(ctx0_g1), \n",
    "            np.mean(ctx0_g2), np.mean(ctx0_g3) ]\n",
    "ctx1_accs = [np.mean(ctx1_g0), np.mean(ctx1_g1), \n",
    "            np.mean(ctx1_g2), np.mean(ctx1_g3) ]\n",
    "            \n",
    "print('Accuracy at t=%s (face1) contex 0:' %(hidd_t_idx), ctx0_accs)\n",
    "print('Accuracy at t=%s (face1) contex 1:' %(hidd_t_idx), ctx1_accs)"
   ]
  },
  {
   "cell_type": "code",
   "execution_count": null,
   "metadata": {},
   "outputs": [],
   "source": []
  }
 ]
}