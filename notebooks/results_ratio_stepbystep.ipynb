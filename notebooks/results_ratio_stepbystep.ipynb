{
 "metadata": {
  "language_info": {
   "codemirror_mode": {
    "name": "ipython",
    "version": 3
   },
   "file_extension": ".py",
   "mimetype": "text/x-python",
   "name": "python",
   "nbconvert_exporter": "python",
   "pygments_lexer": "ipython3",
   "version": "3.6.13"
  },
  "orig_nbformat": 4,
  "kernelspec": {
   "name": "python3",
   "display_name": "Python 3.6.13 64-bit ('csls': conda)"
  },
  "interpreter": {
   "hash": "5ab752e21f80cd37e4dd3ae62015e4827f38c378f9410a931c965901aefa794a"
  }
 },
 "nbformat": 4,
 "nbformat_minor": 2,
 "cells": [
  {
   "cell_type": "code",
   "execution_count": 1,
   "source": [
    "import numpy as np\n",
    "import sys\n",
    "sys.path.append('..')\n",
    "from utils.util import *\n",
    "from utils.all_plots import *"
   ],
   "outputs": [],
   "metadata": {}
  },
  {
   "cell_type": "code",
   "execution_count": null,
   "source": [
    "args_dict = {}\n",
    "args_dict['analyze_names'] = ['calc_ratio', 'analyze_accs']\n",
    "\n",
    "args_dict = set_args_dict(args_dict)\n",
    "# all_res = read_results(args_dict)\n",
    "\n"
   ],
   "outputs": [],
   "metadata": {}
  },
  {
   "cell_type": "markdown",
   "source": [
    "## Read ratio results"
   ],
   "metadata": {}
  },
  {
   "cell_type": "code",
   "execution_count": null,
   "source": [
    "analyze_name = args_dict['analyze_names'][0]\n",
    "\n",
    "# ----------------------\n",
    "ctx_order = 'first'\n",
    "ctx_order_str = 'ctxF'\n",
    "# ----------------------\n",
    "with open('../../results/%s_bef_c_%s_results_rnn_sbs.P' %(analyze_name, ctx_order_str), 'rb') as f:\n",
    "    rnn_results_ctxF_bef_c = pickle.load(f)\n",
    "# ----------------------\n",
    "with open('../../results/%s_bef_inc_%s_results_rnn_sbs.P' %(analyze_name, ctx_order_str), 'rb') as f:\n",
    "    rnn_results_ctxF_bef_inc = pickle.load(f)\n",
    "# ----------------------\n",
    "with open('../../results/%s_aft_c_%s_results_rnn_sbs.P' %(analyze_name, ctx_order_str), 'rb') as f:\n",
    "    rnn_results_ctxF_aft_c = pickle.load(f)\n",
    "# ----------------------\n",
    "with open('../../results/%s_aft_inc_%s_results_rnn_sbs.P' %(analyze_name, ctx_order_str), 'rb') as f:\n",
    "    rnn_results_ctxF_aft_inc = pickle.load(f)\n",
    "\n",
    "\n",
    "    \n",
    "rnn_r_runs_ctxF_bef_c    = dict_to_list(rnn_results_ctxF_bef_c, analyze_name)\n",
    "rnn_r_runs_ctxF_bef_inc  = dict_to_list(rnn_results_ctxF_bef_inc, analyze_name)\n",
    "rnn_r_runs_ctxF_aft_c    = dict_to_list(rnn_results_ctxF_aft_c, analyze_name)\n",
    "rnn_r_runs_ctxF_aft_inc = dict_to_list(rnn_results_ctxF_aft_inc, analyze_name)\n",
    "\n",
    "rnn_r_runs_ctxF_bef_c.keys()"
   ],
   "outputs": [],
   "metadata": {}
  },
  {
   "cell_type": "code",
   "execution_count": null,
   "source": [
    "val_str = 'ratio_hidd'\n",
    "ratio_hidds_mlp       = np.asarray(rnn_r_runs_ctxF_bef_c[val_str])\n",
    "\n",
    "ratio_hidds_rnn_ctxF_bef_c   = np.asarray(rnn_r_runs_ctxF_bef_c[val_str])\n",
    "ratio_hidds_rnn_ctxF_bef_inc = np.asarray(rnn_r_runs_ctxF_bef_inc[val_str])\n",
    "ratio_hidds_rnn_ctxF_aft_c   = np.asarray(rnn_r_runs_ctxF_aft_c[val_str])\n",
    "ratio_hidds_rnn_ctxF_aft_inc = np.asarray(rnn_r_runs_ctxF_aft_inc[val_str])\n"
   ],
   "outputs": [],
   "metadata": {}
  },
  {
   "cell_type": "markdown",
   "source": [
    "## Read acc results"
   ],
   "metadata": {}
  },
  {
   "cell_type": "code",
   "execution_count": null,
   "source": [
    "analyze_name = args_dict['analyze_names'][1]\n",
    "\n",
    "# ----------------------\n",
    "ctx_order = 'first'\n",
    "ctx_order_str = 'ctxF'\n",
    "# ----------------------\n",
    "with open('../../results/%s_bef_c_%s_results_rnn_sbs.P' %(analyze_name, ctx_order_str), 'rb') as f:\n",
    "    rnn_results_ctxF_bef_c = pickle.load(f)\n",
    "# ----------------------\n",
    "with open('../../results/%s_bef_inc_%s_results_rnn_sbs.P' %(analyze_name, ctx_order_str), 'rb') as f:\n",
    "    rnn_results_ctxF_bef_inc = pickle.load(f)\n",
    "# ----------------------\n",
    "with open('../../results/%s_aft_c_%s_results_rnn_sbs.P' %(analyze_name, ctx_order_str), 'rb') as f:\n",
    "    rnn_results_ctxF_aft_c = pickle.load(f)\n",
    "# ----------------------\n",
    "with open('../../results/%s_aft_inc_%s_results_rnn_sbs.P' %(analyze_name, ctx_order_str), 'rb') as f:\n",
    "    rnn_results_ctxF_aft_inc = pickle.load(f)\n",
    "\n",
    "\n",
    "    \n",
    "rnn_acc_runs_ctxF_bef_c    = dict_to_list(rnn_results_ctxF_bef_c, analyze_name)\n",
    "rnn_acc_runs_ctxF_bef_inc  = dict_to_list(rnn_results_ctxF_bef_inc, analyze_name)\n",
    "rnn_acc_runs_ctxF_aft_c    = dict_to_list(rnn_results_ctxF_aft_c, analyze_name)\n",
    "rnn_acc_runs_ctxF_aft_inc = dict_to_list(rnn_results_ctxF_aft_inc, analyze_name)\n",
    "\n",
    "rnn_acc_runs_ctxF_bef_c.keys()\n",
    "\n"
   ],
   "outputs": [],
   "metadata": {}
  },
  {
   "cell_type": "code",
   "execution_count": null,
   "source": [
    "figx, figy = 12, 6\n",
    "args_dict['mi'], args_dict['mx'] = -0.02, 0.025\n",
    "args_dict['sub_title'], args_dict['threshold'] = '', 1\n",
    "args_dict['savefig_str'], args_dict['analyze_name'] = 'sbs_ratio_results', ''\n",
    "args_dict['is_box_plot'], args_dict['is_accs_plot'] = False, False"
   ],
   "outputs": [],
   "metadata": {}
  },
  {
   "cell_type": "markdown",
   "source": [
    "# RNN"
   ],
   "metadata": {}
  },
  {
   "cell_type": "markdown",
   "source": [
    "## before taking a step (optimization.step())"
   ],
   "metadata": {}
  },
  {
   "cell_type": "code",
   "execution_count": null,
   "source": [
    "acc_res_bef_c = rnn_acc_runs_ctxF_bef_c \n",
    "_, _, _, _, a_tr_bef_c, _ = get_accs(acc_res_bef_c)\n",
    "\n",
    "acc_res_aft_c = rnn_acc_runs_ctxF_aft_c\n",
    "_, _, _, _, a_tr_aft_c, _ = get_accs(acc_res_aft_c)\n",
    "\n",
    "acc_res_bef_inc = rnn_acc_runs_ctxF_bef_inc\n",
    "_, _, _, _, a_tr_bef_inc, _ = get_accs(acc_res_bef_inc)\n",
    "\n",
    "acc_res_aft_inc = rnn_acc_runs_ctxF_aft_inc\n",
    "_, _, _, _, a_tr_aft_inc, _ = get_accs(acc_res_aft_inc)\n",
    "\n",
    "\n",
    "# r_tr = a_c_tr / a_inc_tr \n",
    "# df_r_a_tr = res_to_df(args_dict, r_tr)\n",
    "# dfs = df_r, df_r_a_tr"
   ],
   "outputs": [],
   "metadata": {}
  },
  {
   "cell_type": "code",
   "execution_count": null,
   "source": [
    "args_dict['val_name']='Ratio(cong/incong)'\n",
    "r_res = ratio_hidds_rnn_ctxF_aft_c - ratio_hidds_rnn_ctxF_bef_c # all_res['ratio_hidds_rnn_ctxF']\n",
    "\n",
    "acc_res = rnn_acc_runs_ctxF_bef_c # acc_res = all_res['rnn_acc_runs_ctxF']\n",
    "\n",
    "args_dict['Label']='Distances - cong. sample'\n",
    "df_r = res_to_df(args_dict, r_res)\n",
    "\n",
    "# args_dict['Label']='Accuracy'\n",
    "# a_c_tr, a_inc_tr, _, _, _, _ = get_accs(acc_res)\n",
    "# r_tr = a_c_tr / a_inc_tr # ration of accs\n",
    "# df_r_a_tr = res_to_df(args_dict, r_tr)\n",
    "dfs = df_r#, df_r_a_tr\n",
    "\n",
    "# plot params\n",
    "args_dict['ctx_order'], args_dict['ctx_order_str'] = 'first', 'ctxF'\n",
    "args_dict['model_str'], args_dict['mfig_str'] = 'RNN', 'rnn'\n",
    "\n",
    "# plot\n",
    "fig, ax = plt.subplots(figsize=(figx,figy))\n",
    "boxplot_ratio_accs(dfs, args_dict, fig, ax)\n",
    "\n",
    "# only plot the boxplot\n",
    "\n",
    "# fig, ax = plt.subplots(figsize=(figx,figy))\n",
    "# boxplot(df_r, args_dict, fig, ax)"
   ],
   "outputs": [],
   "metadata": {}
  },
  {
   "cell_type": "code",
   "execution_count": null,
   "source": [
    "args_dict['val_name']='Ratio(cong/incong)'\n",
    "r_res = ratio_hidds_rnn_ctxF_aft_inc - ratio_hidds_rnn_ctxF_bef_inc \n",
    "print(np.min(r_res), np.max(r_res))\n",
    "# acc_res = rnn_acc_runs_ctxF_bef_c # acc_res = all_res['rnn_acc_runs_ctxF']\n",
    "\n",
    "args_dict['Label']='Distances - incong. sample'\n",
    "df_r = res_to_df(args_dict, r_res)\n",
    "\n",
    "dfs = df_r\n",
    "\n",
    "# plot params\n",
    "args_dict['ctx_order'], args_dict['ctx_order_str'] = 'first', 'ctxF'\n",
    "args_dict['model_str'], args_dict['mfig_str'] = 'RNN', 'rnn'\n",
    "\n",
    "# plot\n",
    "fig, ax = plt.subplots(figsize=(figx,figy))\n",
    "boxplot_ratio_accs(dfs, args_dict, fig, ax)"
   ],
   "outputs": [],
   "metadata": {}
  },
  {
   "cell_type": "code",
   "execution_count": null,
   "source": [],
   "outputs": [],
   "metadata": {}
  }
 ]
}