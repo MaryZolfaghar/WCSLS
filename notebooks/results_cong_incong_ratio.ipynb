{
 "metadata": {
  "language_info": {
   "codemirror_mode": {
    "name": "ipython",
    "version": 3
   },
   "file_extension": ".py",
   "mimetype": "text/x-python",
   "name": "python",
   "nbconvert_exporter": "python",
   "pygments_lexer": "ipython3",
   "version": "3.6.13"
  },
  "orig_nbformat": 4,
  "kernelspec": {
   "name": "python3",
   "display_name": "Python 3.6.13 64-bit ('csls': conda)"
  },
  "interpreter": {
   "hash": "60e2c2dae3cd0947a8cdd96f32367ef758e2936dea2bd40a0d413bfe313127bc"
  }
 },
 "nbformat": 4,
 "nbformat_minor": 2,
 "cells": [
  {
   "cell_type": "code",
   "execution_count": 1,
   "source": [
    "import pickle\n",
    "import numpy as np\n",
    "import matplotlib.pyplot as plt\n",
    "import sys\n",
    "sys.path.append('..')\n",
    "from utils.util import *\n",
    "import pandas as pd\n",
    "import seaborn as sns\n",
    "sns.set_theme()\n",
    "sns.set_style(\"darkgrid\")\n",
    "# sns.set_context(\"paper\")\n",
    "sns.set_context(\"talk\")"
   ],
   "outputs": [],
   "metadata": {}
  },
  {
   "cell_type": "code",
   "execution_count": 17,
   "source": [
    "def runs_to_df(runs_result, ratio_hidds):\n",
    "    cong_train_accs, cong_test_accs = np.asarray(runs_result['cong_train_acc']), \\\n",
    "                                      np.asarray(runs_result['cong_test_acc'])\n",
    "    incong_train_accs, incong_test_accs = np.asarray(runs_result['incong_train_acc']), \\\n",
    "                                          np.asarray(runs_result['incong_test_acc'])\n",
    "    train_accs, test_accs = np.asarray(runs_result['train_acc']), np.asarray(runs_result['test_acc'])\n",
    "    ratio_cong_incong_train = cong_train_accs / incong_train_accs\n",
    "    ratio_cong_incong_test = cong_test_accs / incong_test_accs\n",
    "\n",
    "    runs, checkpoints = train_accs.shape\n",
    "\n",
    "    ratio_hidd = pd.DataFrame(ratio_hidds, columns=np.arange(checkpoints)) \n",
    "    ratio_hidd.insert(0, 'runs', np.arange(runs))\n",
    "    df_ratio_hidds = pd.melt(ratio_hidd, id_vars=['runs'], var_name='Steps', value_name='Accuracy')\n",
    "    df_ratio_hidds['Label'] = 'ratio_hidds'\n",
    "\n",
    "    ratio_tr = pd.DataFrame(ratio_cong_incong_train, columns=np.arange(checkpoints)) \n",
    "    ratio_tr.insert(0, 'runs', np.arange(runs))\n",
    "    df_ratio_cong_incong_acc_tr = pd.melt(ratio_tr, id_vars=['runs'], var_name='Steps', value_name='Accuracy')\n",
    "    df_ratio_cong_incong_acc_tr['Label'] = 'ratiotrain'\n",
    "\n",
    "    ratio_ts = pd.DataFrame(ratio_cong_incong_test, columns=np.arange(checkpoints)) \n",
    "    ratio_ts.insert(0, 'runs', np.arange(runs))\n",
    "    df_ratio_cong_incong_acc_ts = pd.melt(ratio_ts, id_vars=['runs'], var_name='Steps', value_name='Accuracy')\n",
    "    df_ratio_cong_incong_acc_ts['Label'] = 'ratiotest'\n",
    "\n",
    "    tr = pd.DataFrame(train_accs, columns=np.arange(checkpoints)) \n",
    "    tr.insert(0, 'runs', np.arange(runs))\n",
    "    df_train = pd.melt(tr, id_vars=['runs'], var_name='Steps', value_name='Accuracy')\n",
    "    df_train['Label'] = 'train'\n",
    "\n",
    "    ts = pd.DataFrame(test_accs, columns=np.arange(checkpoints)) \n",
    "    ts.insert(0, 'runs', np.arange(runs))\n",
    "    df_test = pd.melt(ts, id_vars=['runs'], var_name='Steps', value_name='Accuracy')\n",
    "    df_test['Label'] = 'test'\n",
    "\n",
    "    cong_tr = pd.DataFrame(cong_train_accs, columns=np.arange(checkpoints)) \n",
    "    cong_tr.insert(0, 'runs', np.arange(runs))\n",
    "    df_cong_train = pd.melt(cong_tr, id_vars=['runs'], var_name='Steps', value_name='Accuracy')\n",
    "    df_cong_train['Label'] = 'cong_train'\n",
    "\n",
    "    cong_ts = pd.DataFrame(cong_test_accs, columns=np.arange(checkpoints)) \n",
    "    cong_ts.insert(0, 'runs', np.arange(runs))\n",
    "    df_cong_test = pd.melt(cong_ts, id_vars=['runs'], var_name='Steps', value_name='Accuracy')\n",
    "    df_cong_test['Label'] = 'cong_test'\n",
    "\n",
    "    incong_tr = pd.DataFrame(incong_train_accs, columns=np.arange(checkpoints)) \n",
    "    incong_tr.insert(0, 'runs', np.arange(runs))\n",
    "    df_incong_train = pd.melt(incong_tr, id_vars=['runs'], var_name='Steps', value_name='Accuracy')\n",
    "    df_incong_train['Label'] = 'incong_train'\n",
    "\n",
    "    incong_ts = pd.DataFrame(incong_test_accs, columns=np.arange(checkpoints)) \n",
    "    incong_ts.insert(0, 'runs', np.arange(runs))\n",
    "    df_incong_test = pd.melt(incong_ts, id_vars=['runs'], var_name='Steps', value_name='Accuracy')\n",
    "    df_incong_test['Label'] = 'incong_test'\n",
    "    \n",
    "    dfs = df_train, df_test, df_cong_train, df_cong_test, df_incong_train,\\\n",
    "          df_incong_test, df_ratio_cong_incong_acc_tr, df_ratio_cong_incong_acc_ts, \\\n",
    "          df_ratio_hidds\n",
    "    return dfs\n",
    "\n",
    "def plot_accs(dfs, title, ax):\n",
    "    df_train, df_test, df_cong_train,\\\n",
    "        df_cong_test, df_incong_train,\\\n",
    "        df_incong_test, df_ratio_cong_incong_acc_tr,\\\n",
    "        df_ratio_cong_incong_acc_ts, df_ratio_hidds = dfs\n",
    "    # ax = sns.lineplot(data=df_train,\n",
    "    #             x=\"Steps\", y=\"Accuracy\", hue=\"Label\", style=\"Label\",\n",
    "    #             markers=True, dashes=False, err_style=\"bars\", ci=68, palette=['orange'], ax=ax)\n",
    "    # ax = sns.lineplot(data=df_test,\n",
    "    #             x=\"Steps\", y=\"Accuracy\", hue=\"Label\", style=\"Label\",\n",
    "    #             markers=True, dashes=False, err_style=\"bars\", ci=68, ax=ax)\n",
    "    ax = sns.lineplot(data=df_ratio_hidds,\n",
    "                x=\"Steps\", y=\"Accuracy\", hue=\"Label\", style=\"Label\",\n",
    "                markers=True, dashes=False, err_style=\"bars\", ci=68, palette=['green'], ax=ax)\n",
    "    ax = sns.lineplot(data=df_ratio_cong_incong_acc_tr,\n",
    "                x=\"Steps\", y=\"Accuracy\", hue=\"Label\", style=\"Label\",\n",
    "                markers=True, dashes=False, err_style=\"bars\", ci=68, palette=['orange'], ax=ax)\n",
    "    ax = sns.lineplot(data=df_ratio_cong_incong_acc_ts,\n",
    "                x=\"Steps\", y=\"Accuracy\", hue=\"Label\", style=\"Label\",\n",
    "                markers=True, dashes=False, err_style=\"bars\", ci=68, palette=['red'], ax=ax)\n",
    "    # ax = sns.lineplot(data=df_incong_train,\n",
    "    #             x=\"Steps\", y=\"Accuracy\", hue=\"Label\", style=\"Label\",\n",
    "    #             markers=True, dashes=False, err_style=\"bars\", ci=68, palette=['green'], ax=ax)\n",
    "    # ax = sns.lineplot(data=df_incong_test,\n",
    "    #             x=\"Steps\", y=\"Accuracy\", hue=\"Label\", style=\"Label\",\n",
    "    #             markers=True, dashes=False, err_style=\"bars\", ci=68, palette=['purple'], ax=ax)\n",
    "                \n",
    "    ax.set_title(title)\n",
    "    return ax"
   ],
   "outputs": [],
   "metadata": {}
  },
  {
   "cell_type": "code",
   "execution_count": 18,
   "source": [
    "ctx_order = 'first'\n",
    "ctx_order_str = 'ctxF'\n",
    "analyze_name1 = 'calc_ratio'\n",
    "analyze_name2 = 'analyze_accs'"
   ],
   "outputs": [],
   "metadata": {}
  },
  {
   "cell_type": "markdown",
   "source": [
    "## Read ratio results"
   ],
   "metadata": {}
  },
  {
   "cell_type": "code",
   "execution_count": 5,
   "source": [
    "analyze_name = analyze_name1\n",
    "with open('../../results/%s_results_mlp.P' %(analyze_name), 'rb') as f:\n",
    "    mlp_results = pickle.load(f)\n",
    "\n",
    "ctx_order_str = 'ctxF'\n",
    "with open('../../results/%s_%s_results_rnn_init1.P' %(analyze_name, ctx_order_str), 'rb') as f:\n",
    "    rnn_results_ctxF = pickle.load(f)\n",
    "with open('../../results/%s_%s_results_rnncell_init1.P' %(analyze_name, ctx_order_str), 'rb') as f:\n",
    "    rnncell_results_ctxF = pickle.load(f)\n",
    "\n",
    "\n",
    "ctx_order_str = 'ctxL'\n",
    "with open('../../results/%s_%s_results_rnn_init1.P' %(analyze_name, ctx_order_str), 'rb') as f:\n",
    "    rnn_results_ctxL = pickle.load(f)\n",
    "with open('../../results/%s_%s_results_rnncell_init1.P' %(analyze_name, ctx_order_str), 'rb') as f:\n",
    "    rnncell_results_ctxL = pickle.load(f)\n",
    "\n",
    "\n",
    "with open('../../results/%s_results_stepwisemlp.P' %(analyze_name), 'rb') as f:\n",
    "    swmlp_results = pickle.load(f)\n",
    "\n",
    "with open('../../results/%s_results_truncated_stepwisemlp.P' %(analyze_name), 'rb') as f:\n",
    "    trunc_swmlp_results = pickle.load(f)"
   ],
   "outputs": [],
   "metadata": {}
  },
  {
   "cell_type": "code",
   "execution_count": 6,
   "source": [
    "mlp_runs      = dict_to_list(mlp_results, analyze_name)\n",
    "rnn_ctxF_runs = dict_to_list(rnn_results_ctxF, analyze_name)\n",
    "rnn_ctxL_runs = dict_to_list(rnn_results_ctxL, analyze_name)\n",
    "rnncell_ctxF_runs  = dict_to_list(rnncell_results_ctxF, analyze_name)\n",
    "rnncell_ctxL_runs  = dict_to_list(rnncell_results_ctxL, analyze_name)\n",
    "swmlp_runs   = dict_to_list(swmlp_results, analyze_name)\n",
    "trunc_swmlp_runs   = dict_to_list(trunc_swmlp_results, analyze_name)\n",
    "mlp_runs.keys()"
   ],
   "outputs": [
    {
     "output_type": "execute_result",
     "data": {
      "text/plain": [
       "dict_keys(['ratio_embed', 'ratio_hidd'])"
      ]
     },
     "metadata": {},
     "execution_count": 6
    }
   ],
   "metadata": {}
  },
  {
   "cell_type": "code",
   "execution_count": 7,
   "source": [
    "ratio_hidds_mlp          = np.asarray(mlp_runs['ratio_hidd'])\n",
    "ratio_hidds_rnn_ctxF     = np.asarray(rnn_ctxF_runs['ratio_hidd'])\n",
    "ratio_hidds_rnn_ctxL     = np.asarray(rnn_ctxL_runs['ratio_hidd'])\n",
    "ratio_hidds_rnncell_ctxF = np.asarray(rnncell_ctxF_runs['ratio_hidd'])\n",
    "ratio_hidds_rnncell_ctxL = np.asarray(rnncell_ctxL_runs['ratio_hidd'])\n",
    "ratio_hidds_swmlp        = np.asarray(swmlp_runs['ratio_hidd'])\n",
    "ratio_hidds_trunc_swmlp  = np.asarray(trunc_swmlp_runs['ratio_hidd'])\n",
    "ratio_hidds_swmlp.shape"
   ],
   "outputs": [
    {
     "output_type": "execute_result",
     "data": {
      "text/plain": [
       "(20, 21, 2)"
      ]
     },
     "metadata": {},
     "execution_count": 7
    }
   ],
   "metadata": {}
  },
  {
   "cell_type": "markdown",
   "source": [
    "## Read accuracy results"
   ],
   "metadata": {}
  },
  {
   "cell_type": "code",
   "execution_count": 13,
   "source": [
    "analyze_name = analyze_name2\n",
    "with open('../../results/%s_results_mlp.P' %(analyze_name), 'rb') as f:\n",
    "    mlp_results = pickle.load(f)\n",
    "\n",
    "ctx_order_str = 'ctxF'\n",
    "with open('../../results/%s_%s_results_rnn_init1.P' %(analyze_name, ctx_order_str), 'rb') as f:\n",
    "    rnn_results_ctxF = pickle.load(f)\n",
    "with open('../../results/%s_%s_results_rnncell_init1.P' %(analyze_name, ctx_order_str), 'rb') as f:\n",
    "    rnncell_results_ctxF = pickle.load(f)\n",
    "\n",
    "\n",
    "ctx_order_str = 'ctxL'\n",
    "with open('../../results/%s_%s_results_rnn_init1.P' %(analyze_name, ctx_order_str), 'rb') as f:\n",
    "    rnn_results_ctxL = pickle.load(f)\n",
    "with open('../../results/%s_%s_results_rnncell_init1.P' %(analyze_name, ctx_order_str), 'rb') as f:\n",
    "    rnncell_results_ctxL = pickle.load(f)\n",
    "\n",
    "\n",
    "with open('../../results/%s_results_stepwisemlp.P' %(analyze_name), 'rb') as f:\n",
    "    swmlp_results = pickle.load(f)\n",
    "\n",
    "with open('../../results/%s_results_truncated_stepwisemlp.P' %(analyze_name), 'rb') as f:\n",
    "    trunc_swmlp_results = pickle.load(f)"
   ],
   "outputs": [],
   "metadata": {}
  },
  {
   "cell_type": "code",
   "execution_count": 14,
   "source": [
    "mlp_runs      = dict_to_list(mlp_results, analyze_name)\n",
    "rnn_ctxF_runs = dict_to_list(rnn_results_ctxF, analyze_name)\n",
    "rnn_ctxL_runs = dict_to_list(rnn_results_ctxL, analyze_name)\n",
    "rnncell_ctxF_runs  = dict_to_list(rnncell_results_ctxF, analyze_name)\n",
    "rnncell_ctxL_runs  = dict_to_list(rnncell_results_ctxL, analyze_name)\n",
    "swmlp_runs   = dict_to_list(swmlp_results, analyze_name)\n",
    "trunc_swmlp_runs   = dict_to_list(trunc_swmlp_results, analyze_name)\n",
    "mlp_runs.keys()"
   ],
   "outputs": [
    {
     "output_type": "execute_result",
     "data": {
      "text/plain": [
       "dict_keys(['train_acc', 'test_acc', 'cong_train_acc', 'incong_train_acc', 'cong_test_acc', 'incong_test_acc'])"
      ]
     },
     "metadata": {},
     "execution_count": 14
    }
   ],
   "metadata": {}
  },
  {
   "cell_type": "code",
   "execution_count": 22,
   "source": [
    "fig, axs = plt.subplots(5,2, figsize = [25, 20])"
   ],
   "outputs": [
    {
     "output_type": "display_data",
     "data": {
      "text/plain": [
       "<Figure size 1800x1440 with 10 Axes>"
      ],
      "image/png": "[encoded data removed]"
     },
     "metadata": {}
    }
   ],
   "metadata": {}
  },
  {
   "cell_type": "code",
   "execution_count": 23,
   "source": [
    "fig, axs = plt.subplots(5,2, figsize = [25, 20])\n",
    "\n",
    "dfs = runs_to_df(mlp_runs, ratio_hidds_mlp)\n",
    "ax = plot_accs(dfs, \"MLP\", axs[0][0])\n",
    "fig.delaxes(axs[0][1])\n",
    "\n",
    "dfs = runs_to_df(swmlp_runs, ratio_hidds_swmlp[:,:,0])\n",
    "ax = plot_accs(dfs, \"Stepwise MLP - Hidd 1\", axs[1][0])\n",
    "\n",
    "dfs = runs_to_df(swmlp_runs, ratio_hidds_swmlp[:,:,1])\n",
    "ax = plot_accs(dfs, \"Stepwise MLP - Hidd 2\", axs[1][1])\n",
    "\n",
    "\n",
    "dfs = runs_to_df(trunc_swmlp_runs, ratio_hidds_trunc_swmlp[:,:,0])\n",
    "ax = plot_accs(dfs, \"Truncated Stepwise MLP - Hidd 1\", axs[2][0])\n",
    "\n",
    "dfs = runs_to_df(trunc_swmlp_runs, ratio_hidds_trunc_swmlp[:,:,0])\n",
    "ax = plot_accs(dfs, \"Truncated Stepwise MLP - Hidd 2\", axs[2][1])\n",
    "\n",
    "\n",
    "ctx_order = 'first'\n",
    "dfs = runs_to_df(rnn_ctxF_runs, ratio_hidds_rnn_ctxF)\n",
    "ax = plot_accs(dfs, \"RNN - Ax %s\" %(ctx_order), axs[3][0])\n",
    "\n",
    "dfs = runs_to_df(rnncell_ctxF_runs, ratio_hidds_rnncell_ctxF)\n",
    "ax = plot_accs(dfs, \"RNNCell - Ax %s\" %(ctx_order), axs[4][0])\n",
    "\n",
    "ctx_order = 'last'\n",
    "dfs = runs_to_df(rnn_ctxL_runs, ratio_hidds_rnn_ctxL)\n",
    "ax = plot_accs(dfs, \"RNN - Ax %s\" %(ctx_order), axs[3][1])\n",
    "\n",
    "dfs = runs_to_df(rnncell_ctxL_runs, ratio_hidds_rnncell_ctxL)\n",
    "ax = plot_accs(dfs, \"RNNCell - Ax %s\" %(ctx_order), axs[4][1])\n",
    "\n",
    "plt.tight_layout()\n",
    "\n",
    "\n",
    "fig_str = 'analyze_accs_cong_incong_ratio_acc_results_all_models'\n",
    "plt.tight_layout()\n",
    "fig.savefig(('../../figures/' + fig_str + '.pdf'), \n",
    "            bbox_inches = 'tight', pad_inches = 0)\n",
    "fig.savefig(('../../figures/' + fig_str + '.png'), \n",
    "            bbox_inches = 'tight', pad_inches = 0)"
   ],
   "outputs": [],
   "metadata": {}
  },
  {
   "cell_type": "code",
   "execution_count": null,
   "source": [],
   "outputs": [],
   "metadata": {}
  },
  {
   "cell_type": "code",
   "execution_count": 14,
   "source": [
    "# fig, axs = plt.subplots(4,2, figsize = [25, 20])\n",
    "\n",
    "# dfs = runs_to_df(mlp_runs)\n",
    "# ax = plot_accs(dfs, \"MLP\", axs[0][0])\n",
    "# fig.delaxes(axs[0][1])\n",
    "\n",
    "# dfs = runs_to_df(swmlp_runs)\n",
    "# ax = plot_accs(dfs, \"Stepwise MLP\", axs[1][0])\n",
    "\n",
    "# dfs = runs_to_df(trunc_swmlp_runs)\n",
    "# ax = plot_accs(dfs, \"Truncated Stepwise MLP\", axs[1][1])\n",
    "\n",
    "\n",
    "# ctx_order = 'first'\n",
    "# dfs = runs_to_df(rnn_ctxF_runs)\n",
    "# ax = plot_accs(dfs, \"RNN - Ax %s\" %(ctx_order), axs[2][0])\n",
    "\n",
    "# dfs = runs_to_df(rnncell_ctxF_runs)\n",
    "# ax = plot_accs(dfs, \"RNNCell - Ax %s\" %(ctx_order), axs[3][0])\n",
    "\n",
    "# ctx_order = 'last'\n",
    "# dfs = runs_to_df(rnn_ctxL_runs)\n",
    "# ax = plot_accs(dfs, \"RNN - Ax %s\" %(ctx_order), axs[2][1])\n",
    "\n",
    "# dfs = runs_to_df(rnncell_ctxL_runs)\n",
    "# ax = plot_accs(dfs, \"RNNCell - Ax %s\" %(ctx_order), axs[3][1])\n",
    "\n",
    "# plt.tight_layout()\n",
    "\n",
    "\n",
    "# fig_str = 'analyze_accs_cong_incong_results_all_models'\n",
    "# # fig.suptitle('PCA Results', fontweight='bold')\n",
    "# plt.tight_layout()\n",
    "# fig.savefig(('../../figures/' + fig_str + '.pdf'), \n",
    "#             bbox_inches = 'tight', pad_inches = 0)\n",
    "# fig.savefig(('../../figures/' + fig_str + '.png'), \n",
    "#             bbox_inches = 'tight', pad_inches = 0)"
   ],
   "outputs": [],
   "metadata": {}
  }
 ]
}